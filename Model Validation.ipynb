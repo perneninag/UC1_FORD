{
 "cells": [
  {
   "cell_type": "code",
   "execution_count": 0,
   "metadata": {
    "application/vnd.databricks.v1+cell": {
     "cellMetadata": {
      "byteLimit": 2048000,
      "rowLimit": 10000
     },
     "inputWidgets": {},
     "nuid": "808782d8-9cd6-4e90-8def-287b33c7ff4d",
     "showTitle": false,
     "tableResultSettingsMap": {},
     "title": ""
    }
   },
   "outputs": [],
   "source": [
    "dbutils.library.restartPython()"
   ]
  },
  {
   "cell_type": "code",
   "execution_count": 0,
   "metadata": {
    "application/vnd.databricks.v1+cell": {
     "cellMetadata": {
      "byteLimit": 2048000,
      "rowLimit": 10000
     },
     "inputWidgets": {},
     "nuid": "84fa2cb3-d40c-4aba-bfe1-6a2e2d084bca",
     "showTitle": false,
     "tableResultSettingsMap": {},
     "title": ""
    }
   },
   "outputs": [
    {
     "name": "stdout",
     "output_type": "stream",
     "text": [
      "\u001b[43mNote: you may need to restart the kernel using %restart_python or dbutils.library.restartPython() to use updated packages.\u001b[0m\n",
      "Collecting databricks-automl-runtime==0.2.20.6\n",
      "  Using cached databricks_automl_runtime-0.2.20.6-py2.py3-none-any.whl (52 kB)\n",
      "Installing collected packages: databricks-automl-runtime\n",
      "  Attempting uninstall: databricks-automl-runtime\n",
      "    Found existing installation: databricks-automl-runtime 0.2.20.6\n",
      "    Uninstalling databricks-automl-runtime-0.2.20.6:\n",
      "      Successfully uninstalled databricks-automl-runtime-0.2.20.6\n",
      "Successfully installed databricks-automl-runtime-0.2.20.6\n",
      "\u001b[43mNote: you may need to restart the kernel using %restart_python or dbutils.library.restartPython() to use updated packages.\u001b[0m\n"
     ]
    }
   ],
   "source": [
    "%python\n",
    "%pip install --quiet mlflow==2.19\n",
    "%pip install --force-reinstall databricks-automl-runtime==0.2.20.6"
   ]
  },
  {
   "cell_type": "code",
   "execution_count": 0,
   "metadata": {
    "application/vnd.databricks.v1+cell": {
     "cellMetadata": {
      "byteLimit": 2048000,
      "rowLimit": 10000
     },
     "inputWidgets": {},
     "nuid": "712d670d-96ab-46f0-acbe-987993aba25e",
     "showTitle": false,
     "tableResultSettingsMap": {},
     "title": ""
    }
   },
   "outputs": [],
   "source": [
    "dbutils.widgets.text(\"model_name\", \"\", \"Model Name\")\n",
    "dbutils.widgets.text(\"model_version\", \"\", \"Model Version\")\n",
    "#dbutils.widgets.text(\"source_catalog\", \"\", \"Source Catalog\")\n",
    "#dbutils.widgets.text(\"source_db\", \"\", \"Source Database\")\n",
    "dbutils.widgets.text(\"validation_data\", \"\", \"validation data\")\n",
    "dbutils.widgets.text(\"target_catalog\", \"\", \"Target Catalog\")"
   ]
  },
  {
   "cell_type": "code",
   "execution_count": 0,
   "metadata": {
    "application/vnd.databricks.v1+cell": {
     "cellMetadata": {
      "byteLimit": 2048000,
      "rowLimit": 10000
     },
     "inputWidgets": {},
     "nuid": "c5f3e814-d398-4db9-a082-b5979f579033",
     "showTitle": false,
     "tableResultSettingsMap": {},
     "title": ""
    }
   },
   "outputs": [],
   "source": [
    "source_full_model_name = dbutils.widgets.get(\"model_name\")\n",
    "model_version = dbutils.widgets.get(\"model_version\")\n",
    "#catalog = dbutils.widgets.get(\"source_catalog\")\n",
    "#db = dbutils.widgets.get(\"source_db\")\n",
    "validation_data = dbutils.widgets.get(\"validation_data\")\n",
    "target_catalog = dbutils.widgets.get(\"target_catalog\")\n",
    "\n",
    "#Not going to use the inputs for catalog and db. Instead use model name and extract catalog and db\n",
    "catalog, db, model_name = source_full_model_name.split('.', 2)\n",
    "\n",
    "catalog = catalog.strip()\n",
    "db = db.strip()\n",
    "model_name = model_name.strip()\n",
    "\n",
    "model_version = int(model_version)\n"
   ]
  },
  {
   "cell_type": "code",
   "execution_count": 0,
   "metadata": {
    "application/vnd.databricks.v1+cell": {
     "cellMetadata": {
      "byteLimit": 2048000,
      "rowLimit": 10000
     },
     "inputWidgets": {},
     "nuid": "861c0853-0599-45d9-aee5-9588305a4a28",
     "showTitle": false,
     "tableResultSettingsMap": {},
     "title": ""
    }
   },
   "outputs": [
    {
     "name": "stdout",
     "output_type": "stream",
     "text": [
      "uc1_dev.forecast_schema.forecast_model_uc1\n"
     ]
    }
   ],
   "source": [
    "print(source_full_model_name)"
   ]
  },
  {
   "cell_type": "markdown",
   "metadata": {
    "application/vnd.databricks.v1+cell": {
     "cellMetadata": {},
     "inputWidgets": {},
     "nuid": "f6adb5ea-8a11-44e3-bf9b-346a3db09a59",
     "showTitle": false,
     "tableResultSettingsMap": {},
     "title": ""
    }
   },
   "source": [
    "# Validate automl model before moving it to target"
   ]
  },
  {
   "cell_type": "code",
   "execution_count": 0,
   "metadata": {
    "application/vnd.databricks.v1+cell": {
     "cellMetadata": {
      "byteLimit": 2048000,
      "rowLimit": 10000
     },
     "inputWidgets": {},
     "nuid": "745c8656-5ed6-4d9c-964d-76d2c1554059",
     "showTitle": false,
     "tableResultSettingsMap": {},
     "title": ""
    }
   },
   "outputs": [
    {
     "name": "stdout",
     "output_type": "stream",
     "text": [
      "Validating model for uc1_dev.forecast_schema.forecast_model_uc1 on model version 1\n"
     ]
    }
   ],
   "source": [
    "# We are interested in validating the automl model in dev before propogating to stage\n",
    "import mlflow\n",
    "from mlflow.tracking import MlflowClient\n",
    "\n",
    "client = MlflowClient()\n",
    "#model_details = client.get_model_version_by_alias(full_model_name, model_alias)\n",
    "#model_version = int(model_details.version)\n",
    "\n",
    "print(f\"Validating model for {source_full_model_name} on model version {model_version}\")"
   ]
  },
  {
   "cell_type": "markdown",
   "metadata": {
    "application/vnd.databricks.v1+cell": {
     "cellMetadata": {},
     "inputWidgets": {},
     "nuid": "9a5481b4-ed7b-4eb6-876e-9afd8cc56315",
     "showTitle": false,
     "tableResultSettingsMap": {},
     "title": ""
    }
   },
   "source": [
    "## Validate if model version description is populated"
   ]
  },
  {
   "cell_type": "code",
   "execution_count": 0,
   "metadata": {
    "application/vnd.databricks.v1+cell": {
     "cellMetadata": {
      "byteLimit": 2048000,
      "rowLimit": 10000
     },
     "inputWidgets": {},
     "nuid": "50d14a8d-b9cc-467d-830f-6935306096ea",
     "showTitle": false,
     "tableResultSettingsMap": {},
     "title": ""
    }
   },
   "outputs": [
    {
     "data": {
      "text/plain": [
       "\u001b[0;31m---------------------------------------------------------------------------\u001b[0m\n",
       "\u001b[0;31mRestException\u001b[0m                             Traceback (most recent call last)\n",
       "File \u001b[0;32m<command-5018479417308923>, line 1\u001b[0m\n",
       "\u001b[0;32m----> 1\u001b[0m model_details \u001b[38;5;241m=\u001b[39m \u001b[43mclient\u001b[49m\u001b[38;5;241;43m.\u001b[39;49m\u001b[43mget_model_version\u001b[49m\u001b[43m(\u001b[49m\u001b[43mname\u001b[49m\u001b[38;5;241;43m=\u001b[39;49m\u001b[43msource_full_model_name\u001b[49m\u001b[43m,\u001b[49m\u001b[43m \u001b[49m\u001b[43mversion\u001b[49m\u001b[38;5;241;43m=\u001b[39;49m\u001b[43mmodel_version\u001b[49m\u001b[43m)\u001b[49m\n",
       "\n",
       "File \u001b[0;32m/local_disk0/.ephemeral_nfs/envs/pythonEnv-ff7e4e62-03e2-4a7a-af9c-a8bfd4196074/lib/python3.10/site-packages/mlflow/tracking/client.py:4122\u001b[0m, in \u001b[0;36mMlflowClient.get_model_version\u001b[0;34m(self, name, version)\u001b[0m\n",
       "\u001b[1;32m   4058\u001b[0m \u001b[38;5;28;01mdef\u001b[39;00m \u001b[38;5;21mget_model_version\u001b[39m(\u001b[38;5;28mself\u001b[39m, name: \u001b[38;5;28mstr\u001b[39m, version: \u001b[38;5;28mstr\u001b[39m) \u001b[38;5;241m-\u001b[39m\u001b[38;5;241m>\u001b[39m ModelVersion:\n",
       "\u001b[1;32m   4059\u001b[0m     \u001b[38;5;124;03m\"\"\"\u001b[39;00m\n",
       "\u001b[1;32m   4060\u001b[0m \u001b[38;5;124;03m    Converts the docstring args and returns to google style.\u001b[39;00m\n",
       "\u001b[1;32m   4061\u001b[0m \n",
       "\u001b[0;32m   (...)\u001b[0m\n",
       "\u001b[1;32m   4120\u001b[0m \n",
       "\u001b[1;32m   4121\u001b[0m \u001b[38;5;124;03m    \"\"\"\u001b[39;00m\n",
       "\u001b[0;32m-> 4122\u001b[0m     \u001b[38;5;28;01mreturn\u001b[39;00m \u001b[38;5;28;43mself\u001b[39;49m\u001b[38;5;241;43m.\u001b[39;49m\u001b[43m_get_registry_client\u001b[49m\u001b[43m(\u001b[49m\u001b[43m)\u001b[49m\u001b[38;5;241;43m.\u001b[39;49m\u001b[43mget_model_version\u001b[49m\u001b[43m(\u001b[49m\u001b[43mname\u001b[49m\u001b[43m,\u001b[49m\u001b[43m \u001b[49m\u001b[43mversion\u001b[49m\u001b[43m)\u001b[49m\n",
       "\n",
       "File \u001b[0;32m/local_disk0/.ephemeral_nfs/envs/pythonEnv-ff7e4e62-03e2-4a7a-af9c-a8bfd4196074/lib/python3.10/site-packages/mlflow/tracking/_model_registry/client.py:299\u001b[0m, in \u001b[0;36mModelRegistryClient.get_model_version\u001b[0;34m(self, name, version)\u001b[0m\n",
       "\u001b[1;32m    290\u001b[0m \u001b[38;5;28;01mdef\u001b[39;00m \u001b[38;5;21mget_model_version\u001b[39m(\u001b[38;5;28mself\u001b[39m, name, version):\n",
       "\u001b[1;32m    291\u001b[0m     \u001b[38;5;124;03m\"\"\"\u001b[39;00m\n",
       "\u001b[1;32m    292\u001b[0m \u001b[38;5;124;03m    Args:\u001b[39;00m\n",
       "\u001b[1;32m    293\u001b[0m \u001b[38;5;124;03m        name: Name of the containing registered model.\u001b[39;00m\n",
       "\u001b[0;32m   (...)\u001b[0m\n",
       "\u001b[1;32m    297\u001b[0m \u001b[38;5;124;03m        A single :py:class:`mlflow.entities.model_registry.ModelVersion` object.\u001b[39;00m\n",
       "\u001b[1;32m    298\u001b[0m \u001b[38;5;124;03m    \"\"\"\u001b[39;00m\n",
       "\u001b[0;32m--> 299\u001b[0m     \u001b[38;5;28;01mreturn\u001b[39;00m \u001b[38;5;28;43mself\u001b[39;49m\u001b[38;5;241;43m.\u001b[39;49m\u001b[43mstore\u001b[49m\u001b[38;5;241;43m.\u001b[39;49m\u001b[43mget_model_version\u001b[49m\u001b[43m(\u001b[49m\u001b[43mname\u001b[49m\u001b[43m,\u001b[49m\u001b[43m \u001b[49m\u001b[43mversion\u001b[49m\u001b[43m)\u001b[49m\n",
       "\n",
       "File \u001b[0;32m/local_disk0/.ephemeral_nfs/envs/pythonEnv-ff7e4e62-03e2-4a7a-af9c-a8bfd4196074/lib/python3.10/site-packages/mlflow/store/_unity_catalog/registry/rest_store.py:903\u001b[0m, in \u001b[0;36mUcModelRegistryStore.get_model_version\u001b[0;34m(self, name, version)\u001b[0m\n",
       "\u001b[1;32m    901\u001b[0m full_name \u001b[38;5;241m=\u001b[39m get_full_name_from_sc(name, \u001b[38;5;28mself\u001b[39m\u001b[38;5;241m.\u001b[39mspark)\n",
       "\u001b[1;32m    902\u001b[0m req_body \u001b[38;5;241m=\u001b[39m message_to_json(GetModelVersionRequest(name\u001b[38;5;241m=\u001b[39mfull_name, version\u001b[38;5;241m=\u001b[39m\u001b[38;5;28mstr\u001b[39m(version)))\n",
       "\u001b[0;32m--> 903\u001b[0m response_proto \u001b[38;5;241m=\u001b[39m \u001b[38;5;28;43mself\u001b[39;49m\u001b[38;5;241;43m.\u001b[39;49m\u001b[43m_call_endpoint\u001b[49m\u001b[43m(\u001b[49m\u001b[43mGetModelVersionRequest\u001b[49m\u001b[43m,\u001b[49m\u001b[43m \u001b[49m\u001b[43mreq_body\u001b[49m\u001b[43m)\u001b[49m\n",
       "\u001b[1;32m    904\u001b[0m \u001b[38;5;28;01mreturn\u001b[39;00m model_version_from_uc_proto(response_proto\u001b[38;5;241m.\u001b[39mmodel_version)\n",
       "\n",
       "File \u001b[0;32m/local_disk0/.ephemeral_nfs/envs/pythonEnv-ff7e4e62-03e2-4a7a-af9c-a8bfd4196074/lib/python3.10/site-packages/mlflow/store/model_registry/base_rest_store.py:44\u001b[0m, in \u001b[0;36mBaseRestStore._call_endpoint\u001b[0;34m(self, api, json_body, call_all_endpoints, extra_headers)\u001b[0m\n",
       "\u001b[1;32m     42\u001b[0m \u001b[38;5;28;01melse\u001b[39;00m:\n",
       "\u001b[1;32m     43\u001b[0m     endpoint, method \u001b[38;5;241m=\u001b[39m \u001b[38;5;28mself\u001b[39m\u001b[38;5;241m.\u001b[39m_get_endpoint_from_method(api)\n",
       "\u001b[0;32m---> 44\u001b[0m     \u001b[38;5;28;01mreturn\u001b[39;00m \u001b[43mcall_endpoint\u001b[49m\u001b[43m(\u001b[49m\n",
       "\u001b[1;32m     45\u001b[0m \u001b[43m        \u001b[49m\u001b[38;5;28;43mself\u001b[39;49m\u001b[38;5;241;43m.\u001b[39;49m\u001b[43mget_host_creds\u001b[49m\u001b[43m(\u001b[49m\u001b[43m)\u001b[49m\u001b[43m,\u001b[49m\u001b[43m \u001b[49m\u001b[43mendpoint\u001b[49m\u001b[43m,\u001b[49m\u001b[43m \u001b[49m\u001b[43mmethod\u001b[49m\u001b[43m,\u001b[49m\u001b[43m \u001b[49m\u001b[43mjson_body\u001b[49m\u001b[43m,\u001b[49m\u001b[43m \u001b[49m\u001b[43mresponse_proto\u001b[49m\u001b[43m,\u001b[49m\u001b[43m \u001b[49m\u001b[43mextra_headers\u001b[49m\n",
       "\u001b[1;32m     46\u001b[0m \u001b[43m    \u001b[49m\u001b[43m)\u001b[49m\n",
       "\n",
       "File \u001b[0;32m/local_disk0/.ephemeral_nfs/envs/pythonEnv-ff7e4e62-03e2-4a7a-af9c-a8bfd4196074/lib/python3.10/site-packages/mlflow/utils/rest_utils.py:370\u001b[0m, in \u001b[0;36mcall_endpoint\u001b[0;34m(host_creds, endpoint, method, json_body, response_proto, extra_headers)\u001b[0m\n",
       "\u001b[1;32m    367\u001b[0m     call_kwargs[\u001b[38;5;124m\"\u001b[39m\u001b[38;5;124mjson\u001b[39m\u001b[38;5;124m\"\u001b[39m] \u001b[38;5;241m=\u001b[39m json_body\n",
       "\u001b[1;32m    368\u001b[0m     response \u001b[38;5;241m=\u001b[39m http_request(\u001b[38;5;241m*\u001b[39m\u001b[38;5;241m*\u001b[39mcall_kwargs)\n",
       "\u001b[0;32m--> 370\u001b[0m response \u001b[38;5;241m=\u001b[39m \u001b[43mverify_rest_response\u001b[49m\u001b[43m(\u001b[49m\u001b[43mresponse\u001b[49m\u001b[43m,\u001b[49m\u001b[43m \u001b[49m\u001b[43mendpoint\u001b[49m\u001b[43m)\u001b[49m\n",
       "\u001b[1;32m    371\u001b[0m response_to_parse \u001b[38;5;241m=\u001b[39m response\u001b[38;5;241m.\u001b[39mtext\n",
       "\u001b[1;32m    372\u001b[0m js_dict \u001b[38;5;241m=\u001b[39m json\u001b[38;5;241m.\u001b[39mloads(response_to_parse)\n",
       "\n",
       "File \u001b[0;32m/local_disk0/.ephemeral_nfs/envs/pythonEnv-ff7e4e62-03e2-4a7a-af9c-a8bfd4196074/lib/python3.10/site-packages/mlflow/utils/rest_utils.py:240\u001b[0m, in \u001b[0;36mverify_rest_response\u001b[0;34m(response, endpoint)\u001b[0m\n",
       "\u001b[1;32m    238\u001b[0m \u001b[38;5;28;01mif\u001b[39;00m response\u001b[38;5;241m.\u001b[39mstatus_code \u001b[38;5;241m!=\u001b[39m \u001b[38;5;241m200\u001b[39m:\n",
       "\u001b[1;32m    239\u001b[0m     \u001b[38;5;28;01mif\u001b[39;00m _can_parse_as_json_object(response\u001b[38;5;241m.\u001b[39mtext):\n",
       "\u001b[0;32m--> 240\u001b[0m         \u001b[38;5;28;01mraise\u001b[39;00m RestException(json\u001b[38;5;241m.\u001b[39mloads(response\u001b[38;5;241m.\u001b[39mtext))\n",
       "\u001b[1;32m    241\u001b[0m     \u001b[38;5;28;01melse\u001b[39;00m:\n",
       "\u001b[1;32m    242\u001b[0m         base_msg \u001b[38;5;241m=\u001b[39m (\n",
       "\u001b[1;32m    243\u001b[0m             \u001b[38;5;124mf\u001b[39m\u001b[38;5;124m\"\u001b[39m\u001b[38;5;124mAPI request to endpoint \u001b[39m\u001b[38;5;132;01m{\u001b[39;00mendpoint\u001b[38;5;132;01m}\u001b[39;00m\u001b[38;5;124m \u001b[39m\u001b[38;5;124m\"\u001b[39m\n",
       "\u001b[1;32m    244\u001b[0m             \u001b[38;5;124mf\u001b[39m\u001b[38;5;124m\"\u001b[39m\u001b[38;5;124mfailed with error code \u001b[39m\u001b[38;5;132;01m{\u001b[39;00mresponse\u001b[38;5;241m.\u001b[39mstatus_code\u001b[38;5;132;01m}\u001b[39;00m\u001b[38;5;124m != 200\u001b[39m\u001b[38;5;124m\"\u001b[39m\n",
       "\u001b[1;32m    245\u001b[0m         )\n",
       "\n",
       "\u001b[0;31mRestException\u001b[0m: RESOURCE_DOES_NOT_EXIST: Routine or Model 'uc1_dev.forecast_schema.forecast_prediction_uc1' does not exist."
      ]
     },
     "metadata": {
      "application/vnd.databricks.v1+output": {
       "addedWidgets": {},
       "arguments": {},
       "datasetInfos": [],
       "jupyterProps": {
        "ename": "RestException",
        "evalue": "RESOURCE_DOES_NOT_EXIST: Routine or Model 'uc1_dev.forecast_schema.forecast_prediction_uc1' does not exist."
       },
       "metadata": {
        "errorSummary": "<span class='ansi-red-fg'>RestException</span>: RESOURCE_DOES_NOT_EXIST: Routine or Model 'uc1_dev.forecast_schema.forecast_prediction_uc1' does not exist."
       },
       "removedWidgets": [],
       "sqlProps": null,
       "stackFrames": [
        "\u001b[0;31m---------------------------------------------------------------------------\u001b[0m",
        "\u001b[0;31mRestException\u001b[0m                             Traceback (most recent call last)",
        "File \u001b[0;32m<command-5018479417308923>, line 1\u001b[0m\n\u001b[0;32m----> 1\u001b[0m model_details \u001b[38;5;241m=\u001b[39m \u001b[43mclient\u001b[49m\u001b[38;5;241;43m.\u001b[39;49m\u001b[43mget_model_version\u001b[49m\u001b[43m(\u001b[49m\u001b[43mname\u001b[49m\u001b[38;5;241;43m=\u001b[39;49m\u001b[43msource_full_model_name\u001b[49m\u001b[43m,\u001b[49m\u001b[43m \u001b[49m\u001b[43mversion\u001b[49m\u001b[38;5;241;43m=\u001b[39;49m\u001b[43mmodel_version\u001b[49m\u001b[43m)\u001b[49m\n",
        "File \u001b[0;32m/local_disk0/.ephemeral_nfs/envs/pythonEnv-ff7e4e62-03e2-4a7a-af9c-a8bfd4196074/lib/python3.10/site-packages/mlflow/tracking/client.py:4122\u001b[0m, in \u001b[0;36mMlflowClient.get_model_version\u001b[0;34m(self, name, version)\u001b[0m\n\u001b[1;32m   4058\u001b[0m \u001b[38;5;28;01mdef\u001b[39;00m \u001b[38;5;21mget_model_version\u001b[39m(\u001b[38;5;28mself\u001b[39m, name: \u001b[38;5;28mstr\u001b[39m, version: \u001b[38;5;28mstr\u001b[39m) \u001b[38;5;241m-\u001b[39m\u001b[38;5;241m>\u001b[39m ModelVersion:\n\u001b[1;32m   4059\u001b[0m     \u001b[38;5;124;03m\"\"\"\u001b[39;00m\n\u001b[1;32m   4060\u001b[0m \u001b[38;5;124;03m    Converts the docstring args and returns to google style.\u001b[39;00m\n\u001b[1;32m   4061\u001b[0m \n\u001b[0;32m   (...)\u001b[0m\n\u001b[1;32m   4120\u001b[0m \n\u001b[1;32m   4121\u001b[0m \u001b[38;5;124;03m    \"\"\"\u001b[39;00m\n\u001b[0;32m-> 4122\u001b[0m     \u001b[38;5;28;01mreturn\u001b[39;00m \u001b[38;5;28;43mself\u001b[39;49m\u001b[38;5;241;43m.\u001b[39;49m\u001b[43m_get_registry_client\u001b[49m\u001b[43m(\u001b[49m\u001b[43m)\u001b[49m\u001b[38;5;241;43m.\u001b[39;49m\u001b[43mget_model_version\u001b[49m\u001b[43m(\u001b[49m\u001b[43mname\u001b[49m\u001b[43m,\u001b[49m\u001b[43m \u001b[49m\u001b[43mversion\u001b[49m\u001b[43m)\u001b[49m\n",
        "File \u001b[0;32m/local_disk0/.ephemeral_nfs/envs/pythonEnv-ff7e4e62-03e2-4a7a-af9c-a8bfd4196074/lib/python3.10/site-packages/mlflow/tracking/_model_registry/client.py:299\u001b[0m, in \u001b[0;36mModelRegistryClient.get_model_version\u001b[0;34m(self, name, version)\u001b[0m\n\u001b[1;32m    290\u001b[0m \u001b[38;5;28;01mdef\u001b[39;00m \u001b[38;5;21mget_model_version\u001b[39m(\u001b[38;5;28mself\u001b[39m, name, version):\n\u001b[1;32m    291\u001b[0m     \u001b[38;5;124;03m\"\"\"\u001b[39;00m\n\u001b[1;32m    292\u001b[0m \u001b[38;5;124;03m    Args:\u001b[39;00m\n\u001b[1;32m    293\u001b[0m \u001b[38;5;124;03m        name: Name of the containing registered model.\u001b[39;00m\n\u001b[0;32m   (...)\u001b[0m\n\u001b[1;32m    297\u001b[0m \u001b[38;5;124;03m        A single :py:class:`mlflow.entities.model_registry.ModelVersion` object.\u001b[39;00m\n\u001b[1;32m    298\u001b[0m \u001b[38;5;124;03m    \"\"\"\u001b[39;00m\n\u001b[0;32m--> 299\u001b[0m     \u001b[38;5;28;01mreturn\u001b[39;00m \u001b[38;5;28;43mself\u001b[39;49m\u001b[38;5;241;43m.\u001b[39;49m\u001b[43mstore\u001b[49m\u001b[38;5;241;43m.\u001b[39;49m\u001b[43mget_model_version\u001b[49m\u001b[43m(\u001b[49m\u001b[43mname\u001b[49m\u001b[43m,\u001b[49m\u001b[43m \u001b[49m\u001b[43mversion\u001b[49m\u001b[43m)\u001b[49m\n",
        "File \u001b[0;32m/local_disk0/.ephemeral_nfs/envs/pythonEnv-ff7e4e62-03e2-4a7a-af9c-a8bfd4196074/lib/python3.10/site-packages/mlflow/store/_unity_catalog/registry/rest_store.py:903\u001b[0m, in \u001b[0;36mUcModelRegistryStore.get_model_version\u001b[0;34m(self, name, version)\u001b[0m\n\u001b[1;32m    901\u001b[0m full_name \u001b[38;5;241m=\u001b[39m get_full_name_from_sc(name, \u001b[38;5;28mself\u001b[39m\u001b[38;5;241m.\u001b[39mspark)\n\u001b[1;32m    902\u001b[0m req_body \u001b[38;5;241m=\u001b[39m message_to_json(GetModelVersionRequest(name\u001b[38;5;241m=\u001b[39mfull_name, version\u001b[38;5;241m=\u001b[39m\u001b[38;5;28mstr\u001b[39m(version)))\n\u001b[0;32m--> 903\u001b[0m response_proto \u001b[38;5;241m=\u001b[39m \u001b[38;5;28;43mself\u001b[39;49m\u001b[38;5;241;43m.\u001b[39;49m\u001b[43m_call_endpoint\u001b[49m\u001b[43m(\u001b[49m\u001b[43mGetModelVersionRequest\u001b[49m\u001b[43m,\u001b[49m\u001b[43m \u001b[49m\u001b[43mreq_body\u001b[49m\u001b[43m)\u001b[49m\n\u001b[1;32m    904\u001b[0m \u001b[38;5;28;01mreturn\u001b[39;00m model_version_from_uc_proto(response_proto\u001b[38;5;241m.\u001b[39mmodel_version)\n",
        "File \u001b[0;32m/local_disk0/.ephemeral_nfs/envs/pythonEnv-ff7e4e62-03e2-4a7a-af9c-a8bfd4196074/lib/python3.10/site-packages/mlflow/store/model_registry/base_rest_store.py:44\u001b[0m, in \u001b[0;36mBaseRestStore._call_endpoint\u001b[0;34m(self, api, json_body, call_all_endpoints, extra_headers)\u001b[0m\n\u001b[1;32m     42\u001b[0m \u001b[38;5;28;01melse\u001b[39;00m:\n\u001b[1;32m     43\u001b[0m     endpoint, method \u001b[38;5;241m=\u001b[39m \u001b[38;5;28mself\u001b[39m\u001b[38;5;241m.\u001b[39m_get_endpoint_from_method(api)\n\u001b[0;32m---> 44\u001b[0m     \u001b[38;5;28;01mreturn\u001b[39;00m \u001b[43mcall_endpoint\u001b[49m\u001b[43m(\u001b[49m\n\u001b[1;32m     45\u001b[0m \u001b[43m        \u001b[49m\u001b[38;5;28;43mself\u001b[39;49m\u001b[38;5;241;43m.\u001b[39;49m\u001b[43mget_host_creds\u001b[49m\u001b[43m(\u001b[49m\u001b[43m)\u001b[49m\u001b[43m,\u001b[49m\u001b[43m \u001b[49m\u001b[43mendpoint\u001b[49m\u001b[43m,\u001b[49m\u001b[43m \u001b[49m\u001b[43mmethod\u001b[49m\u001b[43m,\u001b[49m\u001b[43m \u001b[49m\u001b[43mjson_body\u001b[49m\u001b[43m,\u001b[49m\u001b[43m \u001b[49m\u001b[43mresponse_proto\u001b[49m\u001b[43m,\u001b[49m\u001b[43m \u001b[49m\u001b[43mextra_headers\u001b[49m\n\u001b[1;32m     46\u001b[0m \u001b[43m    \u001b[49m\u001b[43m)\u001b[49m\n",
        "File \u001b[0;32m/local_disk0/.ephemeral_nfs/envs/pythonEnv-ff7e4e62-03e2-4a7a-af9c-a8bfd4196074/lib/python3.10/site-packages/mlflow/utils/rest_utils.py:370\u001b[0m, in \u001b[0;36mcall_endpoint\u001b[0;34m(host_creds, endpoint, method, json_body, response_proto, extra_headers)\u001b[0m\n\u001b[1;32m    367\u001b[0m     call_kwargs[\u001b[38;5;124m\"\u001b[39m\u001b[38;5;124mjson\u001b[39m\u001b[38;5;124m\"\u001b[39m] \u001b[38;5;241m=\u001b[39m json_body\n\u001b[1;32m    368\u001b[0m     response \u001b[38;5;241m=\u001b[39m http_request(\u001b[38;5;241m*\u001b[39m\u001b[38;5;241m*\u001b[39mcall_kwargs)\n\u001b[0;32m--> 370\u001b[0m response \u001b[38;5;241m=\u001b[39m \u001b[43mverify_rest_response\u001b[49m\u001b[43m(\u001b[49m\u001b[43mresponse\u001b[49m\u001b[43m,\u001b[49m\u001b[43m \u001b[49m\u001b[43mendpoint\u001b[49m\u001b[43m)\u001b[49m\n\u001b[1;32m    371\u001b[0m response_to_parse \u001b[38;5;241m=\u001b[39m response\u001b[38;5;241m.\u001b[39mtext\n\u001b[1;32m    372\u001b[0m js_dict \u001b[38;5;241m=\u001b[39m json\u001b[38;5;241m.\u001b[39mloads(response_to_parse)\n",
        "File \u001b[0;32m/local_disk0/.ephemeral_nfs/envs/pythonEnv-ff7e4e62-03e2-4a7a-af9c-a8bfd4196074/lib/python3.10/site-packages/mlflow/utils/rest_utils.py:240\u001b[0m, in \u001b[0;36mverify_rest_response\u001b[0;34m(response, endpoint)\u001b[0m\n\u001b[1;32m    238\u001b[0m \u001b[38;5;28;01mif\u001b[39;00m response\u001b[38;5;241m.\u001b[39mstatus_code \u001b[38;5;241m!=\u001b[39m \u001b[38;5;241m200\u001b[39m:\n\u001b[1;32m    239\u001b[0m     \u001b[38;5;28;01mif\u001b[39;00m _can_parse_as_json_object(response\u001b[38;5;241m.\u001b[39mtext):\n\u001b[0;32m--> 240\u001b[0m         \u001b[38;5;28;01mraise\u001b[39;00m RestException(json\u001b[38;5;241m.\u001b[39mloads(response\u001b[38;5;241m.\u001b[39mtext))\n\u001b[1;32m    241\u001b[0m     \u001b[38;5;28;01melse\u001b[39;00m:\n\u001b[1;32m    242\u001b[0m         base_msg \u001b[38;5;241m=\u001b[39m (\n\u001b[1;32m    243\u001b[0m             \u001b[38;5;124mf\u001b[39m\u001b[38;5;124m\"\u001b[39m\u001b[38;5;124mAPI request to endpoint \u001b[39m\u001b[38;5;132;01m{\u001b[39;00mendpoint\u001b[38;5;132;01m}\u001b[39;00m\u001b[38;5;124m \u001b[39m\u001b[38;5;124m\"\u001b[39m\n\u001b[1;32m    244\u001b[0m             \u001b[38;5;124mf\u001b[39m\u001b[38;5;124m\"\u001b[39m\u001b[38;5;124mfailed with error code \u001b[39m\u001b[38;5;132;01m{\u001b[39;00mresponse\u001b[38;5;241m.\u001b[39mstatus_code\u001b[38;5;132;01m}\u001b[39;00m\u001b[38;5;124m != 200\u001b[39m\u001b[38;5;124m\"\u001b[39m\n\u001b[1;32m    245\u001b[0m         )\n",
        "\u001b[0;31mRestException\u001b[0m: RESOURCE_DOES_NOT_EXIST: Routine or Model 'uc1_dev.forecast_schema.forecast_prediction_uc1' does not exist."
       ],
       "type": "baseError"
      }
     },
     "output_type": "display_data"
    }
   ],
   "source": [
    "model_details = client.get_model_version(name=source_full_model_name, version=model_version)"
   ]
  },
  {
   "cell_type": "code",
   "execution_count": 0,
   "metadata": {
    "application/vnd.databricks.v1+cell": {
     "cellMetadata": {
      "byteLimit": 2048000,
      "rowLimit": 10000
     },
     "inputWidgets": {},
     "nuid": "a24118e1-24e5-4d9d-bd5b-532c7c4282d2",
     "showTitle": false,
     "tableResultSettingsMap": {},
     "title": ""
    }
   },
   "outputs": [
    {
     "name": "stdout",
     "output_type": "stream",
     "text": [
      "Please add model description to the version\n",
      "Model uc1_dev.forecast_schema.forecast_model_uc1 version 1 has description: False\n"
     ]
    }
   ],
   "source": [
    "# If there's no description or an insufficient number of charaters, tag accordingly\n",
    "model_details = client.get_model_version(name=source_full_model_name, version=model_version)\n",
    "if not model_details.description:\n",
    "  has_description = False\n",
    "  print(\"Please add model description to the version\")\n",
    "  #dbutils.notebook.exit(\"validation Completed. Model version is not fit for next stage\")\n",
    "elif not len(model_details.description) > 20:\n",
    "  has_description = False\n",
    "  print(\"Please add detailed model description (40 char min).\")\n",
    "  #dbutils.notebook.exit(\"validation Completed. Model version is not fit for next stage\")\n",
    "else:\n",
    "  has_description = True\n",
    "\n",
    "print(f'Model {source_full_model_name} version {model_details.version} has description: {has_description}')\n",
    "client.set_model_version_tag(name=source_full_model_name, version=str(model_details.version), key=\"has_description\", value=has_description)"
   ]
  },
  {
   "cell_type": "markdown",
   "metadata": {
    "application/vnd.databricks.v1+cell": {
     "cellMetadata": {},
     "inputWidgets": {},
     "nuid": "e2284e70-148e-4afe-85ae-4f92ac215283",
     "showTitle": false,
     "tableResultSettingsMap": {},
     "title": ""
    }
   },
   "source": [
    "## Validate if champion model exist."
   ]
  },
  {
   "cell_type": "code",
   "execution_count": 0,
   "metadata": {
    "application/vnd.databricks.v1+cell": {
     "cellMetadata": {
      "byteLimit": 2048000,
      "rowLimit": 10000
     },
     "inputWidgets": {},
     "nuid": "9e3cae00-1032-46df-927a-fc4ea5cebd8c",
     "showTitle": false,
     "tableResultSettingsMap": {},
     "title": ""
    }
   },
   "outputs": [
    {
     "name": "stdout",
     "output_type": "stream",
     "text": [
      "1522820e07d44d35a8fe83383d080e74\n",
      "No Champion found. Accept the model as it's the first one.\n",
      "Model uc1_dev.forecast_schema.forecast_model_uc1 version 1 smape comparison with champion model passed. champion_smape_passed: True.\n"
     ]
    }
   ],
   "source": [
    "model_run_id = model_details.run_id\n",
    "print(model_run_id)\n",
    "test_smape = mlflow.get_run(model_run_id).data.metrics['test_smape']\n",
    "\n",
    "try:\n",
    "    #Compare the challenger smape score to the existing champion if it exists\n",
    "    champion_model = client.get_model_version_by_alias(source_full_model_name, \"Champion\")\n",
    "    champion_smape = mlflow.get_run(champion_model.run_id).data.metrics['test_smape']\n",
    "    print(f'Champion test_smape score: {champion_smape}. Challenger champion_smape score: {test_smape}.')\n",
    "    metric_smape_passed = test_smape <= champion_smape\n",
    "except:\n",
    "    print(f\"No Champion found. Accept the model as it's the first one.\")\n",
    "    metric_smape_passed = True\n",
    "\n",
    "if metric_smape_passed == True:\n",
    "    print(f'Model {source_full_model_name} version {model_details.version} smape comparison with champion model passed. champion_smape_passed: {metric_smape_passed}.')\n",
    "    client.set_model_version_tag(name=source_full_model_name, version=model_details.version,key=\"champion_smape_passed\", value=metric_smape_passed)\n",
    "    client.set_registered_model_alias(name=source_full_model_name, alias=\"Challenger\", version=model_version)\n",
    "else:\n",
    "    print(f'Model {source_full_model_name} version {model_details.version} champion_smape_passed: {metric_smape_passed}. Not a good model to proceed with')\n",
    "    client.set_model_version_tag(name=source_full_model_name, version=model_details.version, key=\"champion_smape_passed\", value=metric_smape_passed)\n",
    "    client.set_registered_model_alias(name=source_full_model_name, alias=\"Challenger\", version=model_version)\n",
    "    dbutils.notebook.exit(\"validation Completed. Model version is not fit for next stage\")\n"
   ]
  },
  {
   "cell_type": "markdown",
   "metadata": {
    "application/vnd.databricks.v1+cell": {
     "cellMetadata": {},
     "inputWidgets": {},
     "nuid": "91bd73d9-ae62-4678-951e-81f7a1f21600",
     "showTitle": false,
     "tableResultSettingsMap": {},
     "title": ""
    }
   },
   "source": [
    "## Validating model performance against validation dataset"
   ]
  },
  {
   "cell_type": "code",
   "execution_count": 0,
   "metadata": {
    "application/vnd.databricks.v1+cell": {
     "cellMetadata": {
      "byteLimit": 2048000,
      "rowLimit": 10000
     },
     "inputWidgets": {},
     "nuid": "e55294f1-34ae-419d-9abc-c651abe2328b",
     "showTitle": false,
     "tableResultSettingsMap": {},
     "title": ""
    }
   },
   "outputs": [
    {
     "name": "stderr",
     "output_type": "stream",
     "text": [
      "2025/04/15 08:49:44 INFO mlflow.pyfunc: To install the dependencies that were used to train the model, run the following command: '%pip install -r /local_disk0/user_tmp_data/spark-ff7e4e62-03e2-4a7a-af9c-a8/tmpy60qdhxv/requirements.txt'.\n"
     ]
    },
    {
     "name": "stdout",
     "output_type": "stream",
     "text": [
      "Collecting mlflow==2.9.2\n",
      "  Downloading mlflow-2.9.2-py3-none-any.whl (19.1 MB)\n",
      "     ━━━━━━━━━━━━━━━━━━━━━━━━━━━━━━━━━━━━━━━━ 19.1/19.1 MB 44.0 MB/s eta 0:00:00\n",
      "Collecting prophet==1.1.5\n",
      "  Downloading prophet-1.1.5-py3-none-manylinux_2_17_x86_64.manylinux2014_x86_64.whl (14.4 MB)\n",
      "     ━━━━━━━━━━━━━━━━━━━━━━━━━━━━━━━━━━━━━━━━ 14.4/14.4 MB 77.2 MB/s eta 0:00:00\n",
      "Collecting cloudpickle==2.0.0\n",
      "  Downloading cloudpickle-2.0.0-py3-none-any.whl (25 kB)\n",
      "Requirement already satisfied: databricks-automl-runtime==0.2.20.6 in /local_disk0/.ephemeral_nfs/envs/pythonEnv-ff7e4e62-03e2-4a7a-af9c-a8bfd4196074/lib/python3.10/site-packages (from -r /local_disk0/user_tmp_data/spark-ff7e4e62-03e2-4a7a-af9c-a8/tmpy60qdhxv/requirements.txt (line 4)) (0.2.20.6)\n",
      "Collecting docker<7,>=4.0.0\n",
      "  Downloading docker-6.1.3-py3-none-any.whl (148 kB)\n",
      "     ━━━━━━━━━━━━━━━━━━━━━━━━━━━━━━━━━━━━━━ 148.1/148.1 kB 39.0 MB/s eta 0:00:00\n",
      "Requirement already satisfied: matplotlib<4 in /databricks/python3/lib/python3.10/site-packages (from mlflow==2.9.2->-r /local_disk0/user_tmp_data/spark-ff7e4e62-03e2-4a7a-af9c-a8/tmpy60qdhxv/requirements.txt (line 1)) (3.7.0)\n",
      "Requirement already satisfied: pandas<3 in /databricks/python3/lib/python3.10/site-packages (from mlflow==2.9.2->-r /local_disk0/user_tmp_data/spark-ff7e4e62-03e2-4a7a-af9c-a8/tmpy60qdhxv/requirements.txt (line 1)) (1.5.3)\n",
      "Requirement already satisfied: scikit-learn<2 in /databricks/python3/lib/python3.10/site-packages (from mlflow==2.9.2->-r /local_disk0/user_tmp_data/spark-ff7e4e62-03e2-4a7a-af9c-a8/tmpy60qdhxv/requirements.txt (line 1)) (1.1.1)\n",
      "Requirement already satisfied: requests<3,>=2.17.3 in /databricks/python3/lib/python3.10/site-packages (from mlflow==2.9.2->-r /local_disk0/user_tmp_data/spark-ff7e4e62-03e2-4a7a-af9c-a8/tmpy60qdhxv/requirements.txt (line 1)) (2.28.1)\n",
      "Requirement already satisfied: markdown<4,>=3.3 in /local_disk0/.ephemeral_nfs/envs/pythonEnv-ff7e4e62-03e2-4a7a-af9c-a8bfd4196074/lib/python3.10/site-packages (from mlflow==2.9.2->-r /local_disk0/user_tmp_data/spark-ff7e4e62-03e2-4a7a-af9c-a8/tmpy60qdhxv/requirements.txt (line 1)) (3.8)\n",
      "Requirement already satisfied: pytz<2024 in /databricks/python3/lib/python3.10/site-packages (from mlflow==2.9.2->-r /local_disk0/user_tmp_data/spark-ff7e4e62-03e2-4a7a-af9c-a8/tmpy60qdhxv/requirements.txt (line 1)) (2022.7)\n",
      "Requirement already satisfied: numpy<2 in /databricks/python3/lib/python3.10/site-packages (from mlflow==2.9.2->-r /local_disk0/user_tmp_data/spark-ff7e4e62-03e2-4a7a-af9c-a8/tmpy60qdhxv/requirements.txt (line 1)) (1.23.5)\n",
      "Requirement already satisfied: scipy<2 in /databricks/python3/lib/python3.10/site-packages (from mlflow==2.9.2->-r /local_disk0/user_tmp_data/spark-ff7e4e62-03e2-4a7a-af9c-a8/tmpy60qdhxv/requirements.txt (line 1)) (1.10.0)\n",
      "Requirement already satisfied: packaging<24 in /databricks/python3/lib/python3.10/site-packages (from mlflow==2.9.2->-r /local_disk0/user_tmp_data/spark-ff7e4e62-03e2-4a7a-af9c-a8/tmpy60qdhxv/requirements.txt (line 1)) (23.2)\n",
      "Requirement already satisfied: pyyaml<7,>=5.1 in /local_disk0/.ephemeral_nfs/envs/pythonEnv-ff7e4e62-03e2-4a7a-af9c-a8bfd4196074/lib/python3.10/site-packages (from mlflow==2.9.2->-r /local_disk0/user_tmp_data/spark-ff7e4e62-03e2-4a7a-af9c-a8/tmpy60qdhxv/requirements.txt (line 1)) (6.0.2)\n",
      "Requirement already satisfied: sqlparse<1,>=0.4.0 in /local_disk0/.ephemeral_nfs/envs/pythonEnv-ff7e4e62-03e2-4a7a-af9c-a8bfd4196074/lib/python3.10/site-packages (from mlflow==2.9.2->-r /local_disk0/user_tmp_data/spark-ff7e4e62-03e2-4a7a-af9c-a8/tmpy60qdhxv/requirements.txt (line 1)) (0.5.3)\n",
      "Requirement already satisfied: alembic!=1.10.0,<2 in /local_disk0/.ephemeral_nfs/envs/pythonEnv-ff7e4e62-03e2-4a7a-af9c-a8bfd4196074/lib/python3.10/site-packages (from mlflow==2.9.2->-r /local_disk0/user_tmp_data/spark-ff7e4e62-03e2-4a7a-af9c-a8/tmpy60qdhxv/requirements.txt (line 1)) (1.15.2)\n",
      "Requirement already satisfied: click<9,>=7.0 in /local_disk0/.ephemeral_nfs/envs/pythonEnv-ff7e4e62-03e2-4a7a-af9c-a8bfd4196074/lib/python3.10/site-packages (from mlflow==2.9.2->-r /local_disk0/user_tmp_data/spark-ff7e4e62-03e2-4a7a-af9c-a8/tmpy60qdhxv/requirements.txt (line 1)) (8.1.8)\n",
      "Requirement already satisfied: pyarrow<15,>=4.0.0 in /databricks/python3/lib/python3.10/site-packages (from mlflow==2.9.2->-r /local_disk0/user_tmp_data/spark-ff7e4e62-03e2-4a7a-af9c-a8/tmpy60qdhxv/requirements.txt (line 1)) (8.0.0)\n",
      "Collecting importlib-metadata!=4.7.0,<8,>=3.7.0\n",
      "  Downloading importlib_metadata-7.2.1-py3-none-any.whl (25 kB)\n",
      "Collecting querystring-parser<2\n",
      "  Downloading querystring_parser-1.2.4-py2.py3-none-any.whl (7.9 kB)\n",
      "Requirement already satisfied: entrypoints<1 in /databricks/python3/lib/python3.10/site-packages (from mlflow==2.9.2->-r /local_disk0/user_tmp_data/spark-ff7e4e62-03e2-4a7a-af9c-a8/tmpy60qdhxv/requirements.txt (line 1)) (0.4)\n",
      "Requirement already satisfied: Jinja2<4,>=2.11 in /databricks/python3/lib/python3.10/site-packages (from mlflow==2.9.2->-r /local_disk0/user_tmp_data/spark-ff7e4e62-03e2-4a7a-af9c-a8/tmpy60qdhxv/requirements.txt (line 1)) (3.1.2)\n",
      "Requirement already satisfied: Flask<4 in /local_disk0/.ephemeral_nfs/envs/pythonEnv-ff7e4e62-03e2-4a7a-af9c-a8bfd4196074/lib/python3.10/site-packages (from mlflow==2.9.2->-r /local_disk0/user_tmp_data/spark-ff7e4e62-03e2-4a7a-af9c-a8/tmpy60qdhxv/requirements.txt (line 1)) (3.1.0)\n",
      "Requirement already satisfied: sqlalchemy<3,>=1.4.0 in /local_disk0/.ephemeral_nfs/envs/pythonEnv-ff7e4e62-03e2-4a7a-af9c-a8bfd4196074/lib/python3.10/site-packages (from mlflow==2.9.2->-r /local_disk0/user_tmp_data/spark-ff7e4e62-03e2-4a7a-af9c-a8/tmpy60qdhxv/requirements.txt (line 1)) (2.0.40)\n",
      "Collecting databricks-cli<1,>=0.8.7\n",
      "  Downloading databricks_cli-0.18.0-py2.py3-none-any.whl (150 kB)\n",
      "     ━━━━━━━━━━━━━━━━━━━━━━━━━━━━━━━━━━━━━━ 150.3/150.3 kB 38.3 MB/s eta 0:00:00\n",
      "Requirement already satisfied: protobuf<5,>=3.12.0 in /databricks/python3/lib/python3.10/site-packages (from mlflow==2.9.2->-r /local_disk0/user_tmp_data/spark-ff7e4e62-03e2-4a7a-af9c-a8/tmpy60qdhxv/requirements.txt (line 1)) (4.25.5)\n",
      "Requirement already satisfied: gitpython<4,>=2.1.0 in /local_disk0/.ephemeral_nfs/envs/pythonEnv-ff7e4e62-03e2-4a7a-af9c-a8bfd4196074/lib/python3.10/site-packages (from mlflow==2.9.2->-r /local_disk0/user_tmp_data/spark-ff7e4e62-03e2-4a7a-af9c-a8/tmpy60qdhxv/requirements.txt (line 1)) (3.1.44)\n",
      "Collecting gunicorn<22\n",
      "  Downloading gunicorn-21.2.0-py3-none-any.whl (80 kB)\n",
      "     ━━━━━━━━━━━━━━━━━━━━━━━━━━━━━━━━━━━━━━━━ 80.2/80.2 kB 23.7 MB/s eta 0:00:00\n",
      "Collecting cmdstanpy>=1.0.4\n",
      "  Downloading cmdstanpy-1.2.5-py3-none-any.whl (94 kB)\n",
      "     ━━━━━━━━━━━━━━━━━━━━━━━━━━━━━━━━━━━━━━━━ 94.5/94.5 kB 26.6 MB/s eta 0:00:00\n",
      "Collecting tqdm>=4.36.1\n",
      "  Downloading tqdm-4.67.1-py3-none-any.whl (78 kB)\n",
      "     ━━━━━━━━━━━━━━━━━━━━━━━━━━━━━━━━━━━━━━━━ 78.5/78.5 kB 16.1 MB/s eta 0:00:00\n",
      "Collecting importlib-resources\n",
      "  Downloading importlib_resources-6.5.2-py3-none-any.whl (37 kB)\n",
      "Collecting holidays>=0.25\n",
      "  Downloading holidays-0.70-py3-none-any.whl (903 kB)\n",
      "     ━━━━━━━━━━━━━━━━━━━━━━━━━━━━━━━━━━━━━ 903.1/903.1 kB 116.8 MB/s eta 0:00:00\n",
      "Requirement already satisfied: Mako in /local_disk0/.ephemeral_nfs/envs/pythonEnv-ff7e4e62-03e2-4a7a-af9c-a8bfd4196074/lib/python3.10/site-packages (from alembic!=1.10.0,<2->mlflow==2.9.2->-r /local_disk0/user_tmp_data/spark-ff7e4e62-03e2-4a7a-af9c-a8/tmpy60qdhxv/requirements.txt (line 1)) (1.3.10)\n",
      "Requirement already satisfied: typing-extensions>=4.12 in /local_disk0/.ephemeral_nfs/envs/pythonEnv-ff7e4e62-03e2-4a7a-af9c-a8bfd4196074/lib/python3.10/site-packages (from alembic!=1.10.0,<2->mlflow==2.9.2->-r /local_disk0/user_tmp_data/spark-ff7e4e62-03e2-4a7a-af9c-a8/tmpy60qdhxv/requirements.txt (line 1)) (4.13.2)\n",
      "Collecting stanio<2.0.0,>=0.4.0\n",
      "  Downloading stanio-0.5.1-py3-none-any.whl (8.1 kB)\n",
      "Requirement already satisfied: six>=1.10.0 in /usr/lib/python3/dist-packages (from databricks-cli<1,>=0.8.7->mlflow==2.9.2->-r /local_disk0/user_tmp_data/spark-ff7e4e62-03e2-4a7a-af9c-a8/tmpy60qdhxv/requirements.txt (line 1)) (1.16.0)\n",
      "Requirement already satisfied: oauthlib>=3.1.0 in /usr/lib/python3/dist-packages (from databricks-cli<1,>=0.8.7->mlflow==2.9.2->-r /local_disk0/user_tmp_data/spark-ff7e4e62-03e2-4a7a-af9c-a8/tmpy60qdhxv/requirements.txt (line 1)) (3.2.0)\n",
      "Collecting tabulate>=0.7.7\n",
      "  Downloading tabulate-0.9.0-py3-none-any.whl (35 kB)\n",
      "Requirement already satisfied: pyjwt>=1.7.0 in /usr/lib/python3/dist-packages (from databricks-cli<1,>=0.8.7->mlflow==2.9.2->-r /local_disk0/user_tmp_data/spark-ff7e4e62-03e2-4a7a-af9c-a8/tmpy60qdhxv/requirements.txt (line 1)) (2.3.0)\n",
      "Requirement already satisfied: urllib3<3,>=1.26.7 in /databricks/python3/lib/python3.10/site-packages (from databricks-cli<1,>=0.8.7->mlflow==2.9.2->-r /local_disk0/user_tmp_data/spark-ff7e4e62-03e2-4a7a-af9c-a8/tmpy60qdhxv/requirements.txt (line 1)) (1.26.14)\n",
      "Requirement already satisfied: websocket-client>=0.32.0 in /databricks/python3/lib/python3.10/site-packages (from docker<7,>=4.0.0->mlflow==2.9.2->-r /local_disk0/user_tmp_data/spark-ff7e4e62-03e2-4a7a-af9c-a8/tmpy60qdhxv/requirements.txt (line 1)) (0.58.0)\n",
      "Requirement already satisfied: blinker>=1.9 in /local_disk0/.ephemeral_nfs/envs/pythonEnv-ff7e4e62-03e2-4a7a-af9c-a8bfd4196074/lib/python3.10/site-packages (from Flask<4->mlflow==2.9.2->-r /local_disk0/user_tmp_data/spark-ff7e4e62-03e2-4a7a-af9c-a8/tmpy60qdhxv/requirements.txt (line 1)) (1.9.0)\n",
      "Requirement already satisfied: Werkzeug>=3.1 in /local_disk0/.ephemeral_nfs/envs/pythonEnv-ff7e4e62-03e2-4a7a-af9c-a8bfd4196074/lib/python3.10/site-packages (from Flask<4->mlflow==2.9.2->-r /local_disk0/user_tmp_data/spark-ff7e4e62-03e2-4a7a-af9c-a8/tmpy60qdhxv/requirements.txt (line 1)) (3.1.3)\n",
      "Requirement already satisfied: itsdangerous>=2.2 in /local_disk0/.ephemeral_nfs/envs/pythonEnv-ff7e4e62-03e2-4a7a-af9c-a8bfd4196074/lib/python3.10/site-packages (from Flask<4->mlflow==2.9.2->-r /local_disk0/user_tmp_data/spark-ff7e4e62-03e2-4a7a-af9c-a8/tmpy60qdhxv/requirements.txt (line 1)) (2.2.0)\n",
      "Requirement already satisfied: gitdb<5,>=4.0.1 in /local_disk0/.ephemeral_nfs/envs/pythonEnv-ff7e4e62-03e2-4a7a-af9c-a8bfd4196074/lib/python3.10/site-packages (from gitpython<4,>=2.1.0->mlflow==2.9.2->-r /local_disk0/user_tmp_data/spark-ff7e4e62-03e2-4a7a-af9c-a8/tmpy60qdhxv/requirements.txt (line 1)) (4.0.12)\n",
      "Requirement already satisfied: python-dateutil in /databricks/python3/lib/python3.10/site-packages (from holidays>=0.25->prophet==1.1.5->-r /local_disk0/user_tmp_data/spark-ff7e4e62-03e2-4a7a-af9c-a8/tmpy60qdhxv/requirements.txt (line 2)) (2.8.2)\n",
      "Requirement already satisfied: zipp>=0.5 in /local_disk0/.ephemeral_nfs/envs/pythonEnv-ff7e4e62-03e2-4a7a-af9c-a8bfd4196074/lib/python3.10/site-packages (from importlib-metadata!=4.7.0,<8,>=3.7.0->mlflow==2.9.2->-r /local_disk0/user_tmp_data/spark-ff7e4e62-03e2-4a7a-af9c-a8/tmpy60qdhxv/requirements.txt (line 1)) (3.21.0)\n",
      "Requirement already satisfied: MarkupSafe>=2.0 in /databricks/python3/lib/python3.10/site-packages (from Jinja2<4,>=2.11->mlflow==2.9.2->-r /local_disk0/user_tmp_data/spark-ff7e4e62-03e2-4a7a-af9c-a8/tmpy60qdhxv/requirements.txt (line 1)) (2.1.1)\n",
      "Requirement already satisfied: pillow>=6.2.0 in /databricks/python3/lib/python3.10/site-packages (from matplotlib<4->mlflow==2.9.2->-r /local_disk0/user_tmp_data/spark-ff7e4e62-03e2-4a7a-af9c-a8/tmpy60qdhxv/requirements.txt (line 1)) (9.4.0)\n",
      "Requirement already satisfied: cycler>=0.10 in /databricks/python3/lib/python3.10/site-packages (from matplotlib<4->mlflow==2.9.2->-r /local_disk0/user_tmp_data/spark-ff7e4e62-03e2-4a7a-af9c-a8/tmpy60qdhxv/requirements.txt (line 1)) (0.11.0)\n",
      "Requirement already satisfied: pyparsing>=2.3.1 in /databricks/python3/lib/python3.10/site-packages (from matplotlib<4->mlflow==2.9.2->-r /local_disk0/user_tmp_data/spark-ff7e4e62-03e2-4a7a-af9c-a8/tmpy60qdhxv/requirements.txt (line 1)) (3.0.9)\n",
      "Requirement already satisfied: contourpy>=1.0.1 in /databricks/python3/lib/python3.10/site-packages (from matplotlib<4->mlflow==2.9.2->-r /local_disk0/user_tmp_data/spark-ff7e4e62-03e2-4a7a-af9c-a8/tmpy60qdhxv/requirements.txt (line 1)) (1.0.5)\n",
      "Requirement already satisfied: kiwisolver>=1.0.1 in /databricks/python3/lib/python3.10/site-packages (from matplotlib<4->mlflow==2.9.2->-r /local_disk0/user_tmp_data/spark-ff7e4e62-03e2-4a7a-af9c-a8/tmpy60qdhxv/requirements.txt (line 1)) (1.4.4)\n",
      "Requirement already satisfied: fonttools>=4.22.0 in /databricks/python3/lib/python3.10/site-packages (from matplotlib<4->mlflow==2.9.2->-r /local_disk0/user_tmp_data/spark-ff7e4e62-03e2-4a7a-af9c-a8/tmpy60qdhxv/requirements.txt (line 1)) (4.25.0)\n",
      "Requirement already satisfied: idna<4,>=2.5 in /databricks/python3/lib/python3.10/site-packages (from requests<3,>=2.17.3->mlflow==2.9.2->-r /local_disk0/user_tmp_data/spark-ff7e4e62-03e2-4a7a-af9c-a8/tmpy60qdhxv/requirements.txt (line 1)) (3.4)\n",
      "Requirement already satisfied: certifi>=2017.4.17 in /databricks/python3/lib/python3.10/site-packages (from requests<3,>=2.17.3->mlflow==2.9.2->-r /local_disk0/user_tmp_data/spark-ff7e4e62-03e2-4a7a-af9c-a8/tmpy60qdhxv/requirements.txt (line 1)) (2022.12.7)\n",
      "Requirement already satisfied: charset-normalizer<3,>=2 in /databricks/python3/lib/python3.10/site-packages (from requests<3,>=2.17.3->mlflow==2.9.2->-r /local_disk0/user_tmp_data/spark-ff7e4e62-03e2-4a7a-af9c-a8/tmpy60qdhxv/requirements.txt (line 1)) (2.0.4)\n",
      "Requirement already satisfied: threadpoolctl>=2.0.0 in /databricks/python3/lib/python3.10/site-packages (from scikit-learn<2->mlflow==2.9.2->-r /local_disk0/user_tmp_data/spark-ff7e4e62-03e2-4a7a-af9c-a8/tmpy60qdhxv/requirements.txt (line 1)) (2.2.0)\n",
      "Requirement already satisfied: joblib>=1.0.0 in /databricks/python3/lib/python3.10/site-packages (from scikit-learn<2->mlflow==2.9.2->-r /local_disk0/user_tmp_data/spark-ff7e4e62-03e2-4a7a-af9c-a8/tmpy60qdhxv/requirements.txt (line 1)) (1.2.0)\n",
      "Requirement already satisfied: greenlet>=1 in /local_disk0/.ephemeral_nfs/envs/pythonEnv-ff7e4e62-03e2-4a7a-af9c-a8bfd4196074/lib/python3.10/site-packages (from sqlalchemy<3,>=1.4.0->mlflow==2.9.2->-r /local_disk0/user_tmp_data/spark-ff7e4e62-03e2-4a7a-af9c-a8/tmpy60qdhxv/requirements.txt (line 1)) (3.1.1)\n",
      "Requirement already satisfied: smmap<6,>=3.0.1 in /local_disk0/.ephemeral_nfs/envs/pythonEnv-ff7e4e62-03e2-4a7a-af9c-a8bfd4196074/lib/python3.10/site-packages (from gitdb<5,>=4.0.1->gitpython<4,>=2.1.0->mlflow==2.9.2->-r /local_disk0/user_tmp_data/spark-ff7e4e62-03e2-4a7a-af9c-a8/tmpy60qdhxv/requirements.txt (line 1)) (5.0.2)\n",
      "Installing collected packages: tqdm, tabulate, stanio, querystring-parser, importlib-resources, importlib-metadata, gunicorn, cloudpickle, holidays, docker, databricks-cli, mlflow, cmdstanpy, prophet\n",
      "  Attempting uninstall: importlib-metadata\n",
      "    Found existing installation: importlib_metadata 8.6.1\n",
      "    Uninstalling importlib_metadata-8.6.1:\n",
      "      Successfully uninstalled importlib_metadata-8.6.1\n",
      "  Attempting uninstall: gunicorn\n",
      "    Found existing installation: gunicorn 23.0.0\n",
      "    Uninstalling gunicorn-23.0.0:\n",
      "      Successfully uninstalled gunicorn-23.0.0\n",
      "  Attempting uninstall: cloudpickle\n",
      "    Found existing installation: cloudpickle 3.1.1\n",
      "    Uninstalling cloudpickle-3.1.1:\n",
      "      Successfully uninstalled cloudpickle-3.1.1\n",
      "  Attempting uninstall: docker\n",
      "    Found existing installation: docker 7.1.0\n",
      "    Uninstalling docker-7.1.0:\n",
      "      Successfully uninstalled docker-7.1.0\n",
      "  Attempting uninstall: mlflow\n",
      "    Found existing installation: mlflow 2.19.0\n",
      "    Uninstalling mlflow-2.19.0:\n",
      "      Successfully uninstalled mlflow-2.19.0\n",
      "Successfully installed cloudpickle-2.0.0 cmdstanpy-1.2.5 databricks-cli-0.18.0 docker-6.1.3 gunicorn-21.2.0 holidays-0.70 importlib-metadata-7.2.1 importlib-resources-6.5.2 mlflow-2.9.2 prophet-1.1.5 querystring-parser-1.2.4 stanio-0.5.1 tabulate-0.9.0 tqdm-4.67.1\n",
      "\u001b[43mNote: you may need to restart the kernel using %restart_python or dbutils.library.restartPython() to use updated packages.\u001b[0m\n",
      "Collecting databricks-automl-runtime==0.2.20.6\n",
      "  Using cached databricks_automl_runtime-0.2.20.6-py2.py3-none-any.whl (52 kB)\n",
      "Installing collected packages: databricks-automl-runtime\n",
      "  Attempting uninstall: databricks-automl-runtime\n",
      "    Found existing installation: databricks-automl-runtime 0.2.20.6\n",
      "    Uninstalling databricks-automl-runtime-0.2.20.6:\n",
      "      Successfully uninstalled databricks-automl-runtime-0.2.20.6\n",
      "Successfully installed databricks-automl-runtime-0.2.20.6\n",
      "\u001b[43mNote: you may need to restart the kernel using %restart_python or dbutils.library.restartPython() to use updated packages.\u001b[0m\n"
     ]
    }
   ],
   "source": [
    "import pyspark.sql.functions as F\n",
    "import mlflow\n",
    "#get our validation dataset:\n",
    "validation_data_df = spark.table(f\"{catalog}.{db}.{validation_data}\").toPandas()\n",
    "\n",
    "requirements = mlflow.pyfunc.get_model_dependencies(model_uri=f\"models:/{catalog}.{db}.{model_name}@Challenger\")\n",
    "%pip install -r {requirements}\n",
    "%pip install --force-reinstall databricks-automl-runtime==0.2.20.6"
   ]
  },
  {
   "cell_type": "code",
   "execution_count": 0,
   "metadata": {
    "application/vnd.databricks.v1+cell": {
     "cellMetadata": {
      "byteLimit": 2048000,
      "rowLimit": 10000
     },
     "inputWidgets": {},
     "nuid": "04edbf12-62da-4cf5-80fc-a004579fdecb",
     "showTitle": false,
     "tableResultSettingsMap": {},
     "title": ""
    }
   },
   "outputs": [
    {
     "data": {
      "application/vnd.jupyter.widget-view+json": {
       "model_id": "6cf97ff5024b4fc893e7f65dc8152c4f",
       "version_major": 2,
       "version_minor": 0
      },
      "text/plain": [
       "Downloading artifacts:   0%|          | 0/5 [00:00<?, ?it/s]"
      ]
     },
     "metadata": {},
     "output_type": "display_data"
    },
    {
     "name": "stderr",
     "output_type": "stream",
     "text": [
      "2025/04/15 08:50:20 WARNING mlflow.pyfunc: The version of CloudPickle that was used to save the model, `CloudPickle 2.0.0`, differs from the version of CloudPickle that is currently running, `CloudPickle 3.1.1`, and may be incompatible\n",
      "2025/04/15 08:50:20 WARNING mlflow.tracing.provider: An error occurred while disabling or re-enabling tracing: No module named 'mlflow.tracing.export' The original function will still be executed, but the tracing state may not be as expected. For full traceback, set logging level to debug.\n",
      "2025/04/15 08:50:20 WARNING mlflow.models.utils: Found extra inputs in the model input that are not defined in the model signature: `['Year_1']`. These inputs will be ignored.\n",
      "/local_disk0/.ephemeral_nfs/envs/pythonEnv-ff7e4e62-03e2-4a7a-af9c-a8bfd4196074/lib/python3.10/site-packages/prophet/serialize.py:172: FutureWarning: The behavior of Timestamp.utcfromtimestamp is deprecated, in a future version will return a timezone-aware Timestamp with UTC timezone. To keep the old behavior, use Timestamp.utcfromtimestamp(ts).tz_localize(None). To get the future behavior, use Timestamp.fromtimestamp(ts, 'UTC')\n",
      "  setattr(model, attribute, pd.Timestamp.utcfromtimestamp(model_dict[attribute]).tz_localize(None))\n"
     ]
    },
    {
     "data": {
      "text/html": [
       "<style scoped>\n",
       "  .table-result-container {\n",
       "    max-height: 300px;\n",
       "    overflow: auto;\n",
       "  }\n",
       "  table, th, td {\n",
       "    border: 1px solid black;\n",
       "    border-collapse: collapse;\n",
       "  }\n",
       "  th, td {\n",
       "    padding: 5px;\n",
       "  }\n",
       "  th {\n",
       "    text-align: left;\n",
       "  }\n",
       "</style><div class='table-result-container'><table class='table-result'><thead style='background-color: white'><tr><th>Time_Period</th><th>Year_1</th><th>prediction</th></tr></thead><tbody><tr><td>2019-08-15T00:00:00.000Z</td><td>-0.2003167062490383</td><td>-0.19204642636970495</td></tr><tr><td>2019-08-16T00:00:00.000Z</td><td>-0.20106686643075491</td><td>-0.193870194374781</td></tr><tr><td>2019-08-17T00:00:00.000Z</td><td>-0.20135677669434193</td><td>-0.19400368233681636</td></tr><tr><td>2019-08-18T00:00:00.000Z</td><td>-0.20164437882437494</td><td>-0.19412678042958306</td></tr><tr><td>2019-08-19T00:00:00.000Z</td><td>-0.20177068232279943</td><td>-0.19415639701579607</td></tr><tr><td>2019-08-20T00:00:00.000Z</td><td>-0.20203115155312718</td><td>-0.1941733951654272</td></tr><tr><td>2019-08-21T00:00:00.000Z</td><td>-0.20240196241254801</td><td>-0.19429792436193105</td></tr></tbody></table></div>"
      ]
     },
     "metadata": {
      "application/vnd.databricks.v1+output": {
       "addedWidgets": {},
       "aggData": [],
       "aggError": "",
       "aggOverflow": false,
       "aggSchema": [],
       "aggSeriesLimitReached": false,
       "aggType": "",
       "arguments": {},
       "columnCustomDisplayInfos": {},
       "data": [
        [
         "2019-08-15T00:00:00.000Z",
         -0.2003167062490383,
         -0.19204642636970495
        ],
        [
         "2019-08-16T00:00:00.000Z",
         -0.20106686643075491,
         -0.193870194374781
        ],
        [
         "2019-08-17T00:00:00.000Z",
         -0.20135677669434193,
         -0.19400368233681636
        ],
        [
         "2019-08-18T00:00:00.000Z",
         -0.20164437882437494,
         -0.19412678042958306
        ],
        [
         "2019-08-19T00:00:00.000Z",
         -0.20177068232279943,
         -0.19415639701579607
        ],
        [
         "2019-08-20T00:00:00.000Z",
         -0.20203115155312718,
         -0.1941733951654272
        ],
        [
         "2019-08-21T00:00:00.000Z",
         -0.20240196241254801,
         -0.19429792436193105
        ]
       ],
       "datasetInfos": [],
       "dbfsResultPath": null,
       "isJsonSchema": true,
       "metadata": {},
       "overflow": false,
       "plotOptions": {
        "customPlotOptions": {},
        "displayType": "table",
        "pivotAggregation": null,
        "pivotColumns": null,
        "xColumns": null,
        "yColumns": null
       },
       "removedWidgets": [],
       "schema": [
        {
         "metadata": "{}",
         "name": "Time_Period",
         "type": "\"timestamp\""
        },
        {
         "metadata": "{}",
         "name": "Year_1",
         "type": "\"double\""
        },
        {
         "metadata": "{}",
         "name": "prediction",
         "type": "\"double\""
        }
       ],
       "type": "table"
      }
     },
     "output_type": "display_data"
    }
   ],
   "source": [
    "import mlflow\n",
    "model = mlflow.pyfunc.load_model(model_uri=f\"models:/{catalog}.{db}.{model_name}@Challenger\")\n",
    "validation_data_df['prediction'] = model.predict(validation_data_df)\n",
    "display(validation_data_df)"
   ]
  },
  {
   "cell_type": "code",
   "execution_count": 0,
   "metadata": {
    "application/vnd.databricks.v1+cell": {
     "cellMetadata": {
      "byteLimit": 2048000,
      "rowLimit": 10000
     },
     "inputWidgets": {},
     "nuid": "633c0ab8-0353-415e-b632-809b73f094e6",
     "showTitle": false,
     "tableResultSettingsMap": {},
     "title": ""
    }
   },
   "outputs": [
    {
     "name": "stdout",
     "output_type": "stream",
     "text": [
      "SMAPE value based on staging validation data: 3.90\n"
     ]
    }
   ],
   "source": [
    "import pandas as pd\n",
    "import numpy as np\n",
    "\n",
    "def smape(df, actual_col, predicted_col):\n",
    "  \"\"\"\n",
    "  Calculates the Symmetric Mean Absolute Percentage Error (SMAPE).\n",
    "\n",
    "  Args:\n",
    "    df: Pandas DataFrame containing actual and predicted values.\n",
    "    actual_col: Name of the column containing actual values.\n",
    "    predicted_col: Name of the column containing predicted values.\n",
    "\n",
    "  Returns:\n",
    "    The SMAPE value as a float.\n",
    "  \"\"\"\n",
    "  actual = df[actual_col]\n",
    "  predicted = df[predicted_col]\n",
    "  return np.mean(2 * np.abs(predicted - actual) / (np.abs(actual) + np.abs(predicted))) * 100\n",
    "\n",
    "\n",
    "validation_smape_value = smape(validation_data_df, 'Year_1', 'prediction')\n",
    "print(f\"SMAPE value based on staging validation data: {validation_smape_value:.2f}\")"
   ]
  },
  {
   "cell_type": "code",
   "execution_count": 0,
   "metadata": {
    "application/vnd.databricks.v1+cell": {
     "cellMetadata": {},
     "inputWidgets": {},
     "nuid": "c87062e8-47bf-42d4-a3cd-9c5ad3bc88df",
     "showTitle": false,
     "tableResultSettingsMap": {},
     "title": ""
    }
   },
   "outputs": [],
   "source": []
  },
  {
   "cell_type": "code",
   "execution_count": 0,
   "metadata": {
    "application/vnd.databricks.v1+cell": {
     "cellMetadata": {
      "byteLimit": 2048000,
      "rowLimit": 10000
     },
     "inputWidgets": {},
     "nuid": "6ffbed69-a3a6-4569-a9da-e4405271177b",
     "showTitle": false,
     "tableResultSettingsMap": {},
     "title": ""
    }
   },
   "outputs": [],
   "source": [
    "if validation_smape_value <= test_smape:\n",
    "    print(f\"Validation SMAPE value {validation_smape_value} is less than or equal to the test SMAPE value {test_smape}. Validation Passed\")\n",
    "    validation_metric_smape_passed = validation_smape_value <= test_smape\n",
    "    print(f'Model {source_full_model_name} version {model_details.version} validation_metric_smape_passed: {validation_metric_smape_passed}')\n",
    "    client.set_model_version_tag(name=source_full_model_name, version=model_details.version, key=\"validation_metric_smape_passed\", value=validation_metric_smape_passed)\n",
    "    client.set_registered_model_alias(name=source_full_model_name, alias=\"Champion\", version=model_version)\n",
    "else:\n",
    "    print(f\"Validation SMAPE value {validation_smape_value} is greater than the test SMAPE value {test_smape}. Validation Failed\")\n",
    "    validation_metric_smape_passed = validation_smape_value <= test_smape\n",
    "    client.set_model_version_tag(name=source_full_model_name, version=model_details.version, key=\"validation_metric_smape_passed\", value=validation_metric_smape_passed)\n",
    "    dbutils.notebook.exit(\"validation Completed. Model version is not fit for next stage\")\n"
   ]
  },
  {
   "cell_type": "markdown",
   "metadata": {
    "application/vnd.databricks.v1+cell": {
     "cellMetadata": {},
     "inputWidgets": {},
     "nuid": "8a122443-b1e5-449a-b43b-a9952a0c1b20",
     "showTitle": false,
     "tableResultSettingsMap": {},
     "title": ""
    }
   },
   "source": [
    "## Promoting model to next catalog"
   ]
  },
  {
   "cell_type": "code",
   "execution_count": 0,
   "metadata": {
    "application/vnd.databricks.v1+cell": {
     "cellMetadata": {
      "byteLimit": 2048000,
      "rowLimit": 10000
     },
     "inputWidgets": {},
     "nuid": "8fe79216-dcac-440d-8c56-9ce9066a2ab6",
     "showTitle": false,
     "tableResultSettingsMap": {},
     "title": ""
    }
   },
   "outputs": [
    {
     "name": "stdout",
     "output_type": "stream",
     "text": [
      "\u001b[43mNote: you may need to restart the kernel using %restart_python or dbutils.library.restartPython() to use updated packages.\u001b[0m\n"
     ]
    },
    {
     "name": "stderr",
     "output_type": "stream",
     "text": [
      "Successfully registered model 'uc1_staging.forecast_schema.forecast_model_uc1'.\n"
     ]
    },
    {
     "data": {
      "application/vnd.jupyter.widget-view+json": {
       "model_id": "7733c8c6587c4d06b2258ad45c0d00fa",
       "version_major": 2,
       "version_minor": 0
      },
      "text/plain": [
       "Downloading artifacts:   0%|          | 0/5 [00:00<?, ?it/s]"
      ]
     },
     "metadata": {},
     "output_type": "display_data"
    },
    {
     "data": {
      "application/vnd.jupyter.widget-view+json": {
       "model_id": "0a7e10ad99fb4e9f97a5a2418d549cd7",
       "version_major": 2,
       "version_minor": 0
      },
      "text/plain": [
       "Uploading artifacts:   0%|          | 0/6 [00:00<?, ?it/s]"
      ]
     },
     "metadata": {},
     "output_type": "display_data"
    },
    {
     "name": "stderr",
     "output_type": "stream",
     "text": [
      "Copied version '1' of model 'uc1_dev.forecast_schema.forecast_model_uc1' to version '1' of model 'uc1_staging.forecast_schema.forecast_model_uc1'.\n"
     ]
    }
   ],
   "source": [
    "if validation_metric_smape_passed == False:\n",
    "    %pip install --quiet mlflow==2.19\n",
    "    client = MlflowClient()\n",
    "    if catalog != \"uc1_prod\":\n",
    "        target_model_details = client.copy_model_version(f\"models:/{source_full_model_name}/{model_version}\",f\"{target_catalog}.{db}.{model_name}\")\n",
    "        target_model_version = int(target_model_details.version)\n",
    "        client.set_registered_model_alias(name=f\"{target_catalog}.{db}.{model_name}\", alias=\"Challenger\", version=target_model_version)\n",
    "        client.delete_model_version_tag(f\"{target_catalog}.{db}.{model_name}\",f\"{target_model_version}\" , \"validation_metric_smape_passed\")\n",
    "        client.delete_model_version_tag(f\"{target_catalog}.{db}.{model_name}\",f\"{target_model_version}\" , \"has_description\")\n",
    "        client.delete_model_version_tag(f\"{target_catalog}.{db}.{model_name}\",f\"{target_model_version}\" , \"champion_smape_passed\")\n"
   ]
  },
  {
   "cell_type": "code",
   "execution_count": 0,
   "metadata": {
    "application/vnd.databricks.v1+cell": {
     "cellMetadata": {},
     "inputWidgets": {},
     "nuid": "7a373dc0-8072-4311-9c5d-0fc3c13c7faf",
     "showTitle": false,
     "tableResultSettingsMap": {},
     "title": ""
    }
   },
   "outputs": [],
   "source": []
  }
 ],
 "metadata": {
  "application/vnd.databricks.v1+notebook": {
   "computePreferences": {
    "hardware": {
     "accelerator": null,
     "gpuPoolId": null,
     "memory": null
    }
   },
   "dashboards": [],
   "environmentMetadata": {
    "base_environment": "",
    "environment_version": "1"
   },
   "inputWidgetPreferences": null,
   "language": "python",
   "notebookMetadata": {
    "mostRecentlyExecutedCommandWithImplicitDF": {
     "commandId": 8507924027953115,
     "dataframes": [
      "_sqldf"
     ]
    },
    "pythonIndentUnit": 4,
    "widgetLayout": [
     {
      "breakBefore": false,
      "name": "model_name",
      "width": 182
     },
     {
      "breakBefore": false,
      "name": "model_version",
      "width": 182
     },
     {
      "breakBefore": false,
      "name": "source_catalog",
      "width": 182
     },
     {
      "breakBefore": false,
      "name": "source_db",
      "width": 182
     },
     {
      "breakBefore": false,
      "name": "target_catalog",
      "width": 182
     },
     {
      "breakBefore": false,
      "name": "validation_data",
      "width": 182
     }
    ]
   },
   "notebookName": "Model Validation",
   "widgets": {
    "model_name": {
     "currentValue": "uc1_dev.forecast_schema.forecast_model_uc1",
     "nuid": "c53b0431-b742-4139-8427-3564fdb0470e",
     "typedWidgetInfo": {
      "autoCreated": false,
      "defaultValue": "",
      "label": "Model Name",
      "name": "model_name",
      "options": {
       "validationRegex": null,
       "widgetDisplayType": "Text"
      },
      "parameterDataType": "String"
     },
     "widgetInfo": {
      "defaultValue": "",
      "label": "Model Name",
      "name": "model_name",
      "options": {
       "autoCreated": null,
       "validationRegex": null,
       "widgetType": "text"
      },
      "widgetType": "text"
     }
    },
    "model_version": {
     "currentValue": "1",
     "nuid": "98234b38-d9b1-466e-9194-7b3296a3eadc",
     "typedWidgetInfo": {
      "autoCreated": false,
      "defaultValue": "",
      "label": "Model Version",
      "name": "model_version",
      "options": {
       "validationRegex": null,
       "widgetDisplayType": "Text"
      },
      "parameterDataType": "String"
     },
     "widgetInfo": {
      "defaultValue": "",
      "label": "Model Version",
      "name": "model_version",
      "options": {
       "autoCreated": null,
       "validationRegex": null,
       "widgetType": "text"
      },
      "widgetType": "text"
     }
    },
    "source_catalog": {
     "currentValue": "uc1_dev",
     "nuid": "55c98b2f-810b-403a-bc58-2d89515f59f9",
     "typedWidgetInfo": {
      "autoCreated": false,
      "defaultValue": "",
      "label": "Source Catalog",
      "name": "source_catalog",
      "options": {
       "validationRegex": null,
       "widgetDisplayType": "Text"
      },
      "parameterDataType": "String"
     },
     "widgetInfo": {
      "defaultValue": "",
      "label": "Source Catalog",
      "name": "source_catalog",
      "options": {
       "autoCreated": null,
       "validationRegex": null,
       "widgetType": "text"
      },
      "widgetType": "text"
     }
    },
    "source_db": {
     "currentValue": "forecast_schema",
     "nuid": "dfbfbfe0-41ff-468e-82ed-e03991a53945",
     "typedWidgetInfo": {
      "autoCreated": false,
      "defaultValue": "",
      "label": "Source Database",
      "name": "source_db",
      "options": {
       "validationRegex": null,
       "widgetDisplayType": "Text"
      },
      "parameterDataType": "String"
     },
     "widgetInfo": {
      "defaultValue": "",
      "label": "Source Database",
      "name": "source_db",
      "options": {
       "autoCreated": null,
       "validationRegex": null,
       "widgetType": "text"
      },
      "widgetType": "text"
     }
    },
    "target_catalog": {
     "currentValue": "uc1_staging",
     "nuid": "8fc5db88-6ac7-48cf-af48-817beff2ffb0",
     "typedWidgetInfo": {
      "autoCreated": false,
      "defaultValue": "",
      "label": "Target Catalog",
      "name": "target_catalog",
      "options": {
       "validationRegex": null,
       "widgetDisplayType": "Text"
      },
      "parameterDataType": "String"
     },
     "widgetInfo": {
      "defaultValue": "",
      "label": "Target Catalog",
      "name": "target_catalog",
      "options": {
       "autoCreated": null,
       "validationRegex": null,
       "widgetType": "text"
      },
      "widgetType": "text"
     }
    },
    "validation_data": {
     "currentValue": "validation_table",
     "nuid": "fe3dfd7f-6af3-4617-b1c8-9e71eb64365a",
     "typedWidgetInfo": {
      "autoCreated": false,
      "defaultValue": "",
      "label": "validation data",
      "name": "validation_data",
      "options": {
       "validationRegex": null,
       "widgetDisplayType": "Text"
      },
      "parameterDataType": "String"
     },
     "widgetInfo": {
      "defaultValue": "",
      "label": "validation data",
      "name": "validation_data",
      "options": {
       "autoCreated": null,
       "validationRegex": null,
       "widgetType": "text"
      },
      "widgetType": "text"
     }
    }
   }
  },
  "language_info": {
   "name": "python"
  }
 },
 "nbformat": 4,
 "nbformat_minor": 0
}

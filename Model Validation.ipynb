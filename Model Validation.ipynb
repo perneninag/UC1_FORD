{
 "cells": [
  {
   "cell_type": "code",
   "execution_count": 0,
   "metadata": {
    "application/vnd.databricks.v1+cell": {
     "cellMetadata": {
      "byteLimit": 2048000,
      "rowLimit": 10000
     },
     "inputWidgets": {},
     "nuid": "bc6ae49f-af5d-496c-b7a8-cf6aa93aaa86",
     "showTitle": false,
     "tableResultSettingsMap": {},
     "title": ""
    }
   },
   "outputs": [],
   "source": [
    "%pip install --quiet mlflow==2.19\n",
    "%pip install --force-reinstall databricks-automl-runtime==0.2.20.6\n",
    "dbutils.library.restartPython()"
   ]
  },
  {
   "cell_type": "code",
   "execution_count": 0,
   "metadata": {
    "application/vnd.databricks.v1+cell": {
     "cellMetadata": {
      "byteLimit": 2048000,
      "rowLimit": 10000
     },
     "inputWidgets": {},
     "nuid": "712d670d-96ab-46f0-acbe-987993aba25e",
     "showTitle": false,
     "tableResultSettingsMap": {},
     "title": ""
    }
   },
   "outputs": [],
   "source": [
    "dbutils.widgets.text(\"model_name\", \"\", \"Model Name\")\n",
    "dbutils.widgets.text(\"model_version\", \"\", \"Model Version\")\n",
    "#dbutils.widgets.text(\"source_catalog\", \"\", \"Source Catalog\")\n",
    "#dbutils.widgets.text(\"source_db\", \"\", \"Source Database\")\n",
    "dbutils.widgets.text(\"validation_data\", \"\", \"validation data\")\n",
    "dbutils.widgets.text(\"target_catalog\", \"\", \"Target Catalog\")"
   ]
  },
  {
   "cell_type": "code",
   "execution_count": 0,
   "metadata": {
    "application/vnd.databricks.v1+cell": {
     "cellMetadata": {
      "byteLimit": 2048000,
      "rowLimit": 10000
     },
     "inputWidgets": {},
     "nuid": "c5f3e814-d398-4db9-a082-b5979f579033",
     "showTitle": false,
     "tableResultSettingsMap": {},
     "title": ""
    }
   },
   "outputs": [],
   "source": [
    "source_full_model_name = dbutils.widgets.get(\"model_name\")\n",
    "model_version = dbutils.widgets.get(\"model_version\")\n",
    "#catalog = dbutils.widgets.get(\"source_catalog\")\n",
    "#db = dbutils.widgets.get(\"source_db\")\n",
    "validation_data = dbutils.widgets.get(\"validation_data\")\n",
    "target_catalog = dbutils.widgets.get(\"target_catalog\")\n",
    "\n",
    "#Not going to use the inputs for catalog and db. Instead use model name and extract catalog and db\n",
    "catalog, db, model_name = source_full_model_name.split('.', 2)\n",
    "\n",
    "catalog = catalog.strip()\n",
    "db = db.strip()\n",
    "model_name = model_name.strip()\n",
    "\n",
    "model_version = int(model_version)\n"
   ]
  },
  {
   "cell_type": "markdown",
   "metadata": {
    "application/vnd.databricks.v1+cell": {
     "cellMetadata": {
      "byteLimit": 2048000,
      "rowLimit": 10000
     },
     "inputWidgets": {},
     "nuid": "f6adb5ea-8a11-44e3-bf9b-346a3db09a59",
     "showTitle": false,
     "tableResultSettingsMap": {},
     "title": ""
    }
   },
   "source": [
    "# Validate automl model before moving it to target"
   ]
  },
  {
   "cell_type": "code",
   "execution_count": 0,
   "metadata": {
    "application/vnd.databricks.v1+cell": {
     "cellMetadata": {
      "byteLimit": 2048000,
      "rowLimit": 10000
     },
     "inputWidgets": {},
     "nuid": "745c8656-5ed6-4d9c-964d-76d2c1554059",
     "showTitle": false,
     "tableResultSettingsMap": {},
     "title": ""
    }
   },
   "outputs": [],
   "source": [
    "# We are interested in validating the automl model in dev before propogating to stage\n",
    "import mlflow\n",
    "from mlflow.tracking import MlflowClient\n",
    "\n",
    "client = MlflowClient()\n",
    "#model_details = client.get_model_version_by_alias(full_model_name, model_alias)\n",
    "#model_version = int(model_details.version)\n",
    "\n",
    "print(f\"Validating model for {source_full_model_name} on model version {model_version}\")"
   ]
  },
  {
   "cell_type": "markdown",
   "metadata": {
    "application/vnd.databricks.v1+cell": {
     "cellMetadata": {
      "byteLimit": 2048000,
      "rowLimit": 10000
     },
     "inputWidgets": {},
     "nuid": "9a5481b4-ed7b-4eb6-876e-9afd8cc56315",
     "showTitle": false,
     "tableResultSettingsMap": {},
     "title": ""
    }
   },
   "source": [
    "## Validate if model version description is populated"
   ]
  },
  {
   "cell_type": "code",
   "execution_count": 0,
   "metadata": {
    "application/vnd.databricks.v1+cell": {
     "cellMetadata": {
      "byteLimit": 2048000,
      "rowLimit": 10000
     },
     "inputWidgets": {},
     "nuid": "a24118e1-24e5-4d9d-bd5b-532c7c4282d2",
     "showTitle": false,
     "tableResultSettingsMap": {},
     "title": ""
    }
   },
   "outputs": [],
   "source": [
    "# If there's no description or an insufficient number of charaters, tag accordingly\n",
    "model_details = client.get_model_version(name=source_full_model_name, version=model_version)\n",
    "if not model_details.description:\n",
    "  has_description = False\n",
    "  print(\"Please add model description to the version\")\n",
    "  #dbutils.notebook.exit(\"validation Completed. Model version is not fit for next stage\")\n",
    "elif not len(model_details.description) > 20:\n",
    "  has_description = False\n",
    "  print(\"Please add detailed model description (40 char min).\")\n",
    "  #dbutils.notebook.exit(\"validation Completed. Model version is not fit for next stage\")\n",
    "else:\n",
    "  has_description = True\n",
    "\n",
    "print(f'Model {source_full_model_name} version {model_details.version} has description: {has_description}')\n",
    "client.set_model_version_tag(name=source_full_model_name, version=str(model_details.version), key=\"has_description\", value=has_description)"
   ]
  },
  {
   "cell_type": "markdown",
   "metadata": {
    "application/vnd.databricks.v1+cell": {
     "cellMetadata": {
      "byteLimit": 2048000,
      "rowLimit": 10000
     },
     "inputWidgets": {},
     "nuid": "e2284e70-148e-4afe-85ae-4f92ac215283",
     "showTitle": false,
     "tableResultSettingsMap": {},
     "title": ""
    }
   },
   "source": [
    "## Validate if champion model exist."
   ]
  },
  {
   "cell_type": "code",
   "execution_count": 0,
   "metadata": {
    "application/vnd.databricks.v1+cell": {
     "cellMetadata": {
      "byteLimit": 2048000,
      "rowLimit": 10000
     },
     "inputWidgets": {},
     "nuid": "9e3cae00-1032-46df-927a-fc4ea5cebd8c",
     "showTitle": false,
     "tableResultSettingsMap": {},
     "title": ""
    }
   },
   "outputs": [],
   "source": [
    "model_run_id = model_details.run_id\n",
    "test_smape = mlflow.get_run(model_run_id).data.metrics['test_smape']\n",
    "\n",
    "try:\n",
    "    #Compare the challenger smape score to the existing champion if it exists\n",
    "    champion_model = client.get_model_version_by_alias(source_full_model_name, \"Champion\")\n",
    "    champion_smape = mlflow.get_run(champion_model.run_id).data.metrics['test_smape']\n",
    "    print(f'Champion test_smape score: {champion_smape}. Challenger champion_smape score: {test_smape}.')\n",
    "    metric_smape_passed = test_smape <= champion_smape\n",
    "except:\n",
    "    print(f\"No Champion found. Accept the model as it's the first one.\")\n",
    "    metric_smape_passed = True\n",
    "\n",
    "if metric_smape_passed == True:\n",
    "    print(f'Model {source_full_model_name} version {model_details.version} smape comparison with champion model passed. champion_smape_passed: {metric_smape_passed}.')\n",
    "    client.set_model_version_tag(name=source_full_model_name, version=model_details.version,key=\"champion_smape_passed\", value=metric_smape_passed)\n",
    "    client.set_registered_model_alias(name=source_full_model_name, alias=\"Challenger\", version=model_version)\n",
    "else:\n",
    "    print(f'Model {source_full_model_name} version {model_details.version} champion_smape_passed: {metric_smape_passed}. Not a good model to proceed with')\n",
    "    client.set_model_version_tag(name=source_full_model_name, version=model_details.version, key=\"champion_smape_passed\", value=metric_smape_passed)\n",
    "    client.set_registered_model_alias(name=source_full_model_name, alias=\"Challenger\", version=model_version)\n",
    "    dbutils.notebook.exit(\"validation Completed. Model version is not fit for next stage\")\n"
   ]
  },
  {
   "cell_type": "markdown",
   "metadata": {
    "application/vnd.databricks.v1+cell": {
     "cellMetadata": {
      "byteLimit": 2048000,
      "rowLimit": 10000
     },
     "inputWidgets": {},
     "nuid": "91bd73d9-ae62-4678-951e-81f7a1f21600",
     "showTitle": false,
     "tableResultSettingsMap": {},
     "title": ""
    }
   },
   "source": [
    "## Validating model performance against validation dataset"
   ]
  },
  {
   "cell_type": "code",
   "execution_count": 0,
   "metadata": {
    "application/vnd.databricks.v1+cell": {
     "cellMetadata": {
      "byteLimit": 2048000,
      "rowLimit": 10000
     },
     "inputWidgets": {},
     "nuid": "e55294f1-34ae-419d-9abc-c651abe2328b",
     "showTitle": false,
     "tableResultSettingsMap": {},
     "title": ""
    }
   },
   "outputs": [],
   "source": [
    "import pyspark.sql.functions as F\n",
    "import mlflow\n",
    "#get our validation dataset:\n",
    "validation_data_df = spark.table(f\"{catalog}.{db}.{validation_data}\").toPandas()\n",
    "\n",
    "requirements = mlflow.pyfunc.get_model_dependencies(model_uri=f\"models:/{catalog}.{db}.{model_name}@Challenger\")\n",
    "%pip install -r {requirements}\n",
    "%pip install --force-reinstall databricks-automl-runtime==0.2.20.6"
   ]
  },
  {
   "cell_type": "code",
   "execution_count": 0,
   "metadata": {
    "application/vnd.databricks.v1+cell": {
     "cellMetadata": {
      "byteLimit": 2048000,
      "rowLimit": 10000
     },
     "inputWidgets": {},
     "nuid": "04edbf12-62da-4cf5-80fc-a004579fdecb",
     "showTitle": false,
     "tableResultSettingsMap": {},
     "title": ""
    }
   },
   "outputs": [],
   "source": [
    "import mlflow\n",
    "model = mlflow.pyfunc.load_model(model_uri=f\"models:/{catalog}.{db}.{model_name}@Challenger\")\n",
    "validation_data_df['prediction'] = model.predict(validation_data_df)\n",
    "display(validation_data_df)"
   ]
  },
  {
   "cell_type": "code",
   "execution_count": 0,
   "metadata": {
    "application/vnd.databricks.v1+cell": {
     "cellMetadata": {
      "byteLimit": 2048000,
      "rowLimit": 10000
     },
     "inputWidgets": {},
     "nuid": "633c0ab8-0353-415e-b632-809b73f094e6",
     "showTitle": false,
     "tableResultSettingsMap": {},
     "title": ""
    }
   },
   "outputs": [],
   "source": [
    "import pandas as pd\n",
    "import numpy as np\n",
    "\n",
    "def smape(df, actual_col, predicted_col):\n",
    "  \"\"\"\n",
    "  Calculates the Symmetric Mean Absolute Percentage Error (SMAPE).\n",
    "\n",
    "  Args:\n",
    "    df: Pandas DataFrame containing actual and predicted values.\n",
    "    actual_col: Name of the column containing actual values.\n",
    "    predicted_col: Name of the column containing predicted values.\n",
    "\n",
    "  Returns:\n",
    "    The SMAPE value as a float.\n",
    "  \"\"\"\n",
    "  actual = df[actual_col]\n",
    "  predicted = df[predicted_col]\n",
    "  return np.mean(2 * np.abs(predicted - actual) / (np.abs(actual) + np.abs(predicted))) * 100\n",
    "\n",
    "\n",
    "validation_smape_value = smape(validation_data_df, 'Year_1', 'prediction')\n",
    "print(f\"SMAPE value based on staging validation data: {validation_smape_value:.2f}\")"
   ]
  },
  {
   "cell_type": "code",
   "execution_count": 0,
   "metadata": {
    "application/vnd.databricks.v1+cell": {
     "cellMetadata": {
      "byteLimit": 2048000,
      "rowLimit": 10000
     },
     "inputWidgets": {},
     "nuid": "6ffbed69-a3a6-4569-a9da-e4405271177b",
     "showTitle": false,
     "tableResultSettingsMap": {},
     "title": ""
    }
   },
   "outputs": [],
   "source": [
    "if validation_smape_value <= test_smape:\n",
    "    print(f\"Validation SMAPE value {validation_smape_value} is less than or equal to the test SMAPE value {test_smape}. Validation Passed\")\n",
    "    validation_metric_smape_passed = validation_smape_value <= test_smape\n",
    "    print(f'Model {source_full_model_name} version {model_details.version} validation_metric_smape_passed: {validation_metric_smape_passed}')\n",
    "    client.set_model_version_tag(name=source_full_model_name, version=model_details.version, key=\"validation_metric_smape_passed\", value=validation_metric_smape_passed)\n",
    "    client.set_registered_model_alias(name=source_full_model_name, alias=\"Champion\", version=model_version)\n",
    "else:\n",
    "    print(f\"Validation SMAPE value {validation_smape_value} is greater than the test SMAPE value {test_smape}. Validation Failed\")\n",
    "    validation_metric_smape_passed = validation_smape_value <= test_smape\n",
    "    client.set_model_version_tag(name=source_full_model_name, version=model_details.version, key=\"validation_metric_smape_passed\", value=validation_metric_smape_passed)\n",
    "    dbutils.notebook.exit(\"validation Completed. Model version is not fit for next stage\")\n"
   ]
  },
  {
   "cell_type": "markdown",
   "metadata": {
    "application/vnd.databricks.v1+cell": {
     "cellMetadata": {},
     "inputWidgets": {},
     "nuid": "8a122443-b1e5-449a-b43b-a9952a0c1b20",
     "showTitle": false,
     "tableResultSettingsMap": {},
     "title": ""
    }
   },
   "source": [
    "## Promoting model to next catalog"
   ]
  },
  {
   "cell_type": "code",
   "execution_count": 0,
   "metadata": {
    "application/vnd.databricks.v1+cell": {
     "cellMetadata": {
      "byteLimit": 2048000,
      "rowLimit": 10000
     },
     "inputWidgets": {},
     "nuid": "8fe79216-dcac-440d-8c56-9ce9066a2ab6",
     "showTitle": false,
     "tableResultSettingsMap": {},
     "title": ""
    }
   },
   "outputs": [],
   "source": [
    "if validation_metric_smape_passed == True:\n",
    "    %pip install --quiet mlflow==2.19\n",
    "    client = MlflowClient()\n",
    "    if catalog != \"mlops_prod\":\n",
    "        target_model_details = client.copy_model_version(f\"models:/{source_full_model_name}/{model_version}\",f\"{target_catalog}.{db}.{model_name}\")\n",
    "        target_model_version = int(target_model_details.version)\n",
    "        client.set_registered_model_alias(name=f\"{target_catalog}.{db}.{model_name}\", alias=\"Challenger\", version=target_model_version)\n",
    "        client.delete_model_version_tag(f\"{target_catalog}.{db}.{model_name}\",f\"{target_model_version}\" , \"validation_metric_smape_passed\")\n",
    "        client.delete_model_version_tag(f\"{target_catalog}.{db}.{model_name}\",f\"{target_model_version}\" , \"has_description\")\n",
    "        client.delete_model_version_tag(f\"{target_catalog}.{db}.{model_name}\",f\"{target_model_version}\" , \"champion_smape_passed\")\n"
   ]
  }
 ],
 "metadata": {
  "application/vnd.databricks.v1+notebook": {
   "computePreferences": {
    "hardware": {
     "accelerator": null,
     "gpuPoolId": null,
     "memory": null
    }
   },
   "dashboards": [],
   "environmentMetadata": {
    "base_environment": "",
    "environment_version": "1"
   },
   "inputWidgetPreferences": null,
   "language": "python",
   "notebookMetadata": {
    "mostRecentlyExecutedCommandWithImplicitDF": {
     "commandId": 8507924027953115,
     "dataframes": [
      "_sqldf"
     ]
    },
    "pythonIndentUnit": 4
   },
   "notebookName": "Model Validation",
   "widgets": {
    "model_name": {
     "currentValue": "mlops_dev.interest_forecast.interest_forecast_7_day",
     "nuid": "c53b0431-b742-4139-8427-3564fdb0470e",
     "typedWidgetInfo": {
      "autoCreated": false,
      "defaultValue": "",
      "label": "Model Name",
      "name": "model_name",
      "options": {
       "widgetDisplayType": "Text",
       "validationRegex": null
      },
      "parameterDataType": "String"
     },
     "widgetInfo": {
      "widgetType": "text",
      "defaultValue": "",
      "label": "Model Name",
      "name": "model_name",
      "options": {
       "widgetType": "text",
       "autoCreated": null,
       "validationRegex": null
      }
     }
    },
    "model_version": {
     "currentValue": "1",
     "nuid": "98234b38-d9b1-466e-9194-7b3296a3eadc",
     "typedWidgetInfo": {
      "autoCreated": false,
      "defaultValue": "",
      "label": "Model Version",
      "name": "model_version",
      "options": {
       "widgetDisplayType": "Text",
       "validationRegex": null
      },
      "parameterDataType": "String"
     },
     "widgetInfo": {
      "widgetType": "text",
      "defaultValue": "",
      "label": "Model Version",
      "name": "model_version",
      "options": {
       "widgetType": "text",
       "autoCreated": null,
       "validationRegex": null
      }
     }
    },
    "source_catalog": {
     "currentValue": "mlops_dev",
     "nuid": "55c98b2f-810b-403a-bc58-2d89515f59f9",
     "typedWidgetInfo": {
      "autoCreated": false,
      "defaultValue": "",
      "label": "Source Catalog",
      "name": "source_catalog",
      "options": {
       "widgetDisplayType": "Text",
       "validationRegex": null
      },
      "parameterDataType": "String"
     },
     "widgetInfo": {
      "widgetType": "text",
      "defaultValue": "",
      "label": "Source Catalog",
      "name": "source_catalog",
      "options": {
       "widgetType": "text",
       "autoCreated": null,
       "validationRegex": null
      }
     }
    },
    "source_db": {
     "currentValue": "interest_forecast",
     "nuid": "dfbfbfe0-41ff-468e-82ed-e03991a53945",
     "typedWidgetInfo": {
      "autoCreated": false,
      "defaultValue": "",
      "label": "Source Database",
      "name": "source_db",
      "options": {
       "widgetDisplayType": "Text",
       "validationRegex": null
      },
      "parameterDataType": "String"
     },
     "widgetInfo": {
      "widgetType": "text",
      "defaultValue": "",
      "label": "Source Database",
      "name": "source_db",
      "options": {
       "widgetType": "text",
       "autoCreated": null,
       "validationRegex": null
      }
     }
    },
    "target_catalog": {
     "currentValue": "mlops_stage",
     "nuid": "8fc5db88-6ac7-48cf-af48-817beff2ffb0",
     "typedWidgetInfo": {
      "autoCreated": false,
      "defaultValue": "",
      "label": "Target Catalog",
      "name": "target_catalog",
      "options": {
       "widgetDisplayType": "Text",
       "validationRegex": null
      },
      "parameterDataType": "String"
     },
     "widgetInfo": {
      "widgetType": "text",
      "defaultValue": "",
      "label": "Target Catalog",
      "name": "target_catalog",
      "options": {
       "widgetType": "text",
       "autoCreated": null,
       "validationRegex": null
      }
     }
    },
    "validation_data": {
     "currentValue": "validation_table",
     "nuid": "fe3dfd7f-6af3-4617-b1c8-9e71eb64365a",
     "typedWidgetInfo": {
      "autoCreated": false,
      "defaultValue": "",
      "label": "validation data",
      "name": "validation_data",
      "options": {
       "widgetDisplayType": "Text",
       "validationRegex": null
      },
      "parameterDataType": "String"
     },
     "widgetInfo": {
      "widgetType": "text",
      "defaultValue": "",
      "label": "validation data",
      "name": "validation_data",
      "options": {
       "widgetType": "text",
       "autoCreated": null,
       "validationRegex": null
      }
     }
    }
   }
  },
  "language_info": {
   "name": "python"
  }
 },
 "nbformat": 4,
 "nbformat_minor": 0
}
